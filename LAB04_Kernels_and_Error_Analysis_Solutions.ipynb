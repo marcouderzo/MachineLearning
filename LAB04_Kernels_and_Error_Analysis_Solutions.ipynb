{
  "nbformat": 4,
  "nbformat_minor": 0,
  "metadata": {
    "colab": {
      "provenance": [],
      "include_colab_link": true
    },
    "kernelspec": {
      "name": "python3",
      "display_name": "Python 3"
    },
    "language_info": {
      "name": "python"
    }
  },
  "cells": [
    {
      "cell_type": "markdown",
      "metadata": {
        "id": "view-in-github",
        "colab_type": "text"
      },
      "source": [
        "<a href=\"https://colab.research.google.com/github/marcouderzo/MachineLearning/blob/main/LAB04_Kernels_and_Error_Analysis_Solutions.ipynb\" target=\"_parent\"><img src=\"https://colab.research.google.com/assets/colab-badge.svg\" alt=\"Open In Colab\"/></a>"
      ]
    },
    {
      "cell_type": "markdown",
      "source": [
        "# Theory\n",
        "\n",
        "So far we worked with tabular data. Today we try something different, i.e.,  *image classification*. As a task, we aim to predict *digits* provided by the *MNIST* dataset, a popular dataset used in Machine Learning to test new algorithms. \n",
        "\n",
        "We can now import it and see how such digits look like,"
      ],
      "metadata": {
        "id": "rmyGEY8HbAPf"
      }
    },
    {
      "cell_type": "code",
      "metadata": {
        "id": "0UIo9Y_bcT8s"
      },
      "source": [
        "import matplotlib.pyplot as plt\n",
        "from sklearn import datasets\n",
        "from sklearn.model_selection import train_test_split"
      ],
      "execution_count": null,
      "outputs": []
    },
    {
      "cell_type": "code",
      "execution_count": null,
      "metadata": {
        "colab": {
          "base_uri": "https://localhost:8080/",
          "height": 168
        },
        "id": "qALJiYNCalua",
        "outputId": "b93c83e6-a38a-43c1-97e3-c869471200f3"
      },
      "outputs": [
        {
          "output_type": "display_data",
          "data": {
            "text/plain": [
              "<Figure size 720x216 with 4 Axes>"
            ],
            "image/png": "[encoded data removed]"
          },
          "metadata": {
            "needs_background": "light"
          }
        }
      ],
      "source": [
        "digits = datasets.load_digits()\n",
        "\n",
        "_, axes = plt.subplots(nrows=1, ncols=4, figsize=(10, 3))\n",
        "for ax, image, label in zip(axes, digits.images, digits.target):\n",
        "    ax.set_axis_off()\n",
        "    ax.imshow(image, cmap=plt.cm.gray_r, interpolation=\"nearest\")\n",
        "    ax.set_title(\"Training: %i\" % label)"
      ]
    },
    {
      "cell_type": "code",
      "source": [
        "# Split data into 80% train+validation and 20% test subsets\n",
        "X_train_val, X_test, y_train_val, y_test = train_test_split(\n",
        "    digits.data, digits.target, test_size=0.2, shuffle=False\n",
        ")\n",
        "\n",
        "# Split the train+validation into 80% train and 20% validation subsets\n",
        "X_train, X_val, y_train, y_val = train_test_split(\n",
        "    X_train_val, y_train_val, test_size=0.2, shuffle=False\n",
        ")\n",
        "\n",
        "len(X_train), len(X_val), len(X_test)"
      ],
      "metadata": {
        "colab": {
          "base_uri": "https://localhost:8080/"
        },
        "id": "D1JO5OBehX0u",
        "outputId": "be74035f-e431-4268-f255-d626b1935cfe"
      },
      "execution_count": null,
      "outputs": [
        {
          "output_type": "execute_result",
          "data": {
            "text/plain": [
              "(1149, 288, 360)"
            ]
          },
          "metadata": {},
          "execution_count": 63
        }
      ]
    },
    {
      "cell_type": "markdown",
      "source": [
        "We can visualize one example --- how a data sample looks like."
      ],
      "metadata": {
        "id": "A5a-lm9nhhDF"
      }
    },
    {
      "cell_type": "code",
      "source": [
        "X_train[0].shape"
      ],
      "metadata": {
        "colab": {
          "base_uri": "https://localhost:8080/"
        },
        "id": "EOx-ZnX9hePF",
        "outputId": "c28fcd39-7943-430d-ec6a-965c0d96f265"
      },
      "execution_count": null,
      "outputs": [
        {
          "output_type": "execute_result",
          "data": {
            "text/plain": [
              "(64,)"
            ]
          },
          "metadata": {},
          "execution_count": 64
        }
      ]
    },
    {
      "cell_type": "code",
      "source": [
        "X_train[0]"
      ],
      "metadata": {
        "colab": {
          "base_uri": "https://localhost:8080/"
        },
        "id": "znM8YJkuhqpJ",
        "outputId": "e5831d9e-165c-4da6-f68f-68944eacf723"
      },
      "execution_count": null,
      "outputs": [
        {
          "output_type": "execute_result",
          "data": {
            "text/plain": [
              "array([ 0.,  0.,  5., 13.,  9.,  1.,  0.,  0.,  0.,  0., 13., 15., 10.,\n",
              "       15.,  5.,  0.,  0.,  3., 15.,  2.,  0., 11.,  8.,  0.,  0.,  4.,\n",
              "       12.,  0.,  0.,  8.,  8.,  0.,  0.,  5.,  8.,  0.,  0.,  9.,  8.,\n",
              "        0.,  0.,  4., 11.,  0.,  1., 12.,  7.,  0.,  0.,  2., 14.,  5.,\n",
              "       10., 12.,  0.,  0.,  0.,  0.,  6., 13., 10.,  0.,  0.,  0.])"
            ]
          },
          "metadata": {},
          "execution_count": 65
        }
      ]
    },
    {
      "cell_type": "markdown",
      "source": [
        "It's a 1-dimensional array containing 64 integers, each representing the grey value of the corresponding pixel (the images were originally 8x8 pixels, but they have been flattened into a 1-dimensional array to easily use them into the learning algorithms in Sklearn). \n",
        "We can thus now think to train an SVM for classifying such digits. \n",
        "We use a *polynomial kernel*: $K_{poly}(x_1, x_2) = (x_1^T x_2+e)^d$, where $d$ and $e$ are named *degree* and *coef0* in Sklearn, respectively. The parameter $e$ usually take the values {0,1}, while $d\\geq 1$ indicates that we are considering d-tuples of the input elements. When $d=1, e=0$ we get a special case called *linear kernel* (the $\\phi()$ corresponding to the linear kernel is $\\phi(x)→x$, i.e. the identity function, so we are using the input features as they are). \n",
        "We use a *polynomial kernel* with d=2, and we apply a gridsearch over the regularization parameter $C$ (other kernels are described in the [documentation](https://scikit-learn.org/stable/modules/generated/sklearn.svm.SVC.html))."
      ],
      "metadata": {
        "id": "yUSLKjBGhtae"
      }
    },
    {
      "cell_type": "code",
      "source": [
        "from sklearn.svm import SVC\n",
        "from sklearn.model_selection import GridSearchCV\n",
        "from sklearn.metrics import f1_score, accuracy_score\n",
        "\n",
        "\n",
        "svc_grid_params = {\n",
        "    'C': (0.1, 1., 10),\n",
        "}\n",
        "\n",
        "#define a new SVC with polynomial kernel (d=2, e=1) and fixed random state\n",
        "svc_clf = SVC(kernel = 'poly', degree=2, coef0=1) \n",
        "\n",
        "#define the gridsearch instance\n",
        "svc_v1 = GridSearchCV(svc_clf, svc_grid_params, n_jobs= -1, cv = 5)\n",
        "\n",
        "#fit over the training + validation\n",
        "svc_v1.fit(X_train_val, y_train_val)\n",
        "\n",
        "#see the grid-search validation performance \n",
        "svc_v1.best_score_"
      ],
      "metadata": {
        "colab": {
          "base_uri": "https://localhost:8080/"
        },
        "id": "8E5ldPmriJpc",
        "outputId": "5b8618d9-e2bc-4c03-8e34-ab86f3ca1203"
      },
      "execution_count": null,
      "outputs": [
        {
          "output_type": "execute_result",
          "data": {
            "text/plain": [
              "0.968696767324816"
            ]
          },
          "metadata": {},
          "execution_count": 66
        }
      ]
    },
    {
      "cell_type": "markdown",
      "source": [
        "Models' performance can be evaluated in many ways. So far, we evaluate a model based on its capabilities at classifing some datapoints (e.g., accuracy score, F1-score). Another option is models training time. In other words, in future, you might choose models you know perform well as accuracy, but also fast at training or prediction time. \n",
        "\n",
        "We now want to show you how to calculate the training time performance. "
      ],
      "metadata": {
        "id": "JsQG1Acykawx"
      }
    },
    {
      "cell_type": "code",
      "source": [
        "import time\n",
        "import numpy as np \n",
        "\n",
        "#define the number of repetitions\n",
        "repetitions = 5\n",
        "\n",
        "#empty list saving the time\n",
        "t = []\n",
        "\n",
        "for _ in range(repetitions): #iterate over the repetitions \n",
        "    ## training block\n",
        "    svc_grid_params = {'C': (0.1, 1., 10)}\n",
        "    svc_clf = SVC(kernel = 'linear') \n",
        "    svc_v1 = GridSearchCV(svc_clf, svc_grid_params, n_jobs= -1, cv = 5)\n",
        "    start_time = time.time() # get the starting time\n",
        "    svc_v1.fit(X_train_val, y_train_val)\n",
        "    end_time = time.time() # get the ending time\n",
        "\n",
        "    delta = end_time - start_time\n",
        "    t.append(delta)\n",
        "\n",
        "np.mean(delta)"
      ],
      "metadata": {
        "colab": {
          "base_uri": "https://localhost:8080/"
        },
        "id": "TnDXDSkxlCiD",
        "outputId": "9e75359b-c8ec-4130-dbe6-2fa92d555e9c"
      },
      "execution_count": null,
      "outputs": [
        {
          "output_type": "execute_result",
          "data": {
            "text/plain": [
              "0.32334375381469727"
            ]
          },
          "metadata": {},
          "execution_count": 67
        }
      ]
    },
    {
      "cell_type": "markdown",
      "source": [
        "On average, it took us between $0.40$ and $0.45$ seconds to train an SVC with linear kernel. Notice that we repeat the training five times and get the average of the execution times because the notebooks are run on a computer in which multiple programs are running simultaneously, therefore each execution could take  different timings (and you might get an average different than ours). "
      ],
      "metadata": {
        "id": "USMdUhRP4OoD"
      }
    },
    {
      "cell_type": "markdown",
      "source": [
        "# Exercises"
      ],
      "metadata": {
        "id": "C_0q-ERD4ZAx"
      }
    },
    {
      "cell_type": "markdown",
      "source": [
        "## Exercise 1: Error Analysis\n",
        "\n",
        "The role of a data scientist is not only to train models, but also to analyse models' outcomes. \n",
        "\n",
        "The *error analysis* is an example of something you should do after training your models. \n",
        "With this analysis, your aim is to answer the following question: \"why is my model mispredicting some samples?\" \n",
        "\n",
        "For example, sometimes the errors are legitimate. We are going to see an example now. "
      ],
      "metadata": {
        "id": "WBzW5-Ob4a9k"
      }
    },
    {
      "cell_type": "markdown",
      "source": [
        "### Exercise 1.1 \n",
        "\n",
        "Using the dataset adopted during the theoretical part of the lab, select the best hyperparameters for an SVC (SVM for Sklearn) among the followings: \n",
        "\n",
        "    - kernel = 'rbf'\n",
        "    - C = [0.1, 1, 10]\n",
        "\n",
        "You can use the data splits used in the previous part as well (apply cross validation on train+val).\n",
        "For the task, use the GridSearchCV with standard parameters as we always did. \n",
        "\n",
        "Finally, compute the accuracy on the test set of the selected model. "
      ],
      "metadata": {
        "id": "p1-ZQZ4V4l-u"
      }
    },
    {
      "cell_type": "code",
      "source": [
        "## Ex 1.1 here"
      ],
      "metadata": {
        "id": "1ntV5Q-v5DyD"
      },
      "execution_count": null,
      "outputs": []
    },
    {
      "cell_type": "code",
      "source": [
        "## Solution\n",
        "\n",
        "svc_grid_params = {'C': (0.1, 1., 10)}\n",
        "svc_clf = SVC(kernel = 'rbf') \n",
        "svc_v2 = GridSearchCV(svc_clf, svc_grid_params, n_jobs= -1, cv = 5)\n",
        "svc_v2.fit(X_train_val, y_train_val)\n",
        "\n",
        "y_test_pred = svc_v2.predict(X_test)\n",
        "print(accuracy_score(y_test_pred, y_test))"
      ],
      "metadata": {
        "colab": {
          "base_uri": "https://localhost:8080/"
        },
        "id": "oSB1YJAW5QTI",
        "outputId": "f3b16ad8-759d-4b2d-fe60-2e99d2ec5592"
      },
      "execution_count": null,
      "outputs": [
        {
          "output_type": "stream",
          "name": "stdout",
          "text": [
            "0.9583333333333334\n"
          ]
        }
      ]
    },
    {
      "cell_type": "markdown",
      "source": [
        "Look at the <a href=\"https://scikit-learn.org/stable/modules/generated/sklearn.metrics.ConfusionMatrixDisplay.html\"> [link] </a>. \n",
        "Use the functions described there (specifically in the first example) to create a ConfusionMatrix from the best model you find above over the *test set*.\n",
        "\n",
        "Do you see any interesting pattern?\n"
      ],
      "metadata": {
        "id": "QC1_3-n55PfZ"
      }
    },
    {
      "cell_type": "code",
      "source": [
        "## Ex 1.2 here\n"
      ],
      "metadata": {
        "id": "t8gf7oCz5cZJ"
      },
      "execution_count": null,
      "outputs": []
    },
    {
      "cell_type": "code",
      "source": [
        "## Solution\n",
        "from sklearn.metrics import confusion_matrix, ConfusionMatrixDisplay\n",
        "\n",
        "y_test_pred = svc_v2.predict(X_test)\n",
        "cm = confusion_matrix(y_test, y_test_pred, labels=svc_v2.classes_)\n",
        "disp = ConfusionMatrixDisplay(confusion_matrix=cm, display_labels=svc_v2.classes_)\n",
        "disp.plot()\n",
        "plt.show()"
      ],
      "metadata": {
        "colab": {
          "base_uri": "https://localhost:8080/",
          "height": 279
        },
        "id": "GLhtAiPA5eXC",
        "outputId": "27b38390-cd81-4023-dfc7-ef9885515a5e"
      },
      "execution_count": null,
      "outputs": [
        {
          "output_type": "display_data",
          "data": {
            "text/plain": [
              "<Figure size 432x288 with 2 Axes>"
            ],
            "image/png": "[encoded data removed]"
          },
          "metadata": {
            "needs_background": "light"
          }
        }
      ]
    },
    {
      "cell_type": "markdown",
      "source": [
        "If everything is correct, you should notice that the diagonals contains high values: this is expected, as it means that most of the predictions are correct. \n",
        "Another interesting patterns can be found among the mispredictions. There are three examples of class 4 which are predicted as class 9. Let's see how they look like. Run the following code.\n"
      ],
      "metadata": {
        "id": "JIpuhn6Z5ur_"
      }
    },
    {
      "cell_type": "code",
      "source": [
        "indices = np.all([ (y_test==4), (y_test_pred==9) ], axis=0) # find the index of the examples of class 4 predicted as class 9\n",
        "                                                            # np.all returns the elements of the input vector that satisfy all conditions \n",
        "_, axes = plt.subplots(nrows=1, ncols=sum(indices==True), figsize=(10, 3))\n",
        "for ax, image, label, pred_label in zip(axes, X_test[indices], y_test[indices], y_test_pred[indices]):\n",
        "    ax.set_axis_off()\n",
        "    ax.imshow(image.reshape(8,8), cmap=plt.cm.gray_r, interpolation=\"nearest\")\n",
        "    ax.set_title(\"Test: %i\\nPred: %i\" % (label, pred_label))\n"
      ],
      "metadata": {
        "colab": {
          "base_uri": "https://localhost:8080/",
          "height": 225
        },
        "id": "IKCPBZ-o6FKv",
        "outputId": "2899f147-2cc5-4d83-baf9-2fd94b4f9ad4"
      },
      "execution_count": null,
      "outputs": [
        {
          "output_type": "display_data",
          "data": {
            "text/plain": [
              "<Figure size 720x216 with 3 Axes>"
            ],
            "image/png": "[encoded data removed]"
          },
          "metadata": {
            "needs_background": "light"
          }
        }
      ]
    },
    {
      "cell_type": "markdown",
      "source": [
        "I could argue that those seem actually 9s instead of 4s, in other words the labels could be noisy. Therefore, I might decide not to spend time improving the performance of the algorithm. These examples could be used when discussing the performance of our learning system with the clients, to say that those are mistakes that even some humans would do (of course we need to check that the same happens for other mistakes). \n",
        "In summary, sometimes it is ok to have classifiers that do mistakes if these mistakes \"make sense\" somehow. \n"
      ],
      "metadata": {
        "id": "Q6h5NtRh6Jbh"
      }
    },
    {
      "cell_type": "markdown",
      "source": [
        "## Exercise 2: Visualising the Use of Different kernels"
      ],
      "metadata": {
        "id": "fusrdBKnLuqC"
      }
    },
    {
      "cell_type": "markdown",
      "source": [
        "Recall that the SVM corresponds to a linear discriminant function in the feature space $\\phi$. But how does the discriminat function look back in the input space? In this exercise, we see how does it change for different kernels and parameters. We start as usual by creating a dataset. "
      ],
      "metadata": {
        "id": "1SlTdXOGY9W-"
      }
    },
    {
      "cell_type": "code",
      "source": [
        "#import the data\n",
        "from sklearn import datasets\n",
        "from sklearn.preprocessing import StandardScaler\n",
        "from sklearn.model_selection import train_test_split\n",
        "import matplotlib.pyplot as plt\n",
        "\n",
        "X, y = datasets.make_classification(n_samples=700, n_features=2, random_state=124, n_redundant= 0, n_informative=2, scale=10, shift=10)\n",
        "X[:, 0] = X[:, 0]*0.1\n",
        "\n",
        "# split the data into training, and testing set. \n",
        "# note: for this exercise we avoid the validation set since \n",
        "# we only aim to understand how different models perform. \n",
        "# we do not adopt any validation process\n",
        "X_train, X_test, y_train, y_test = train_test_split(X,y,train_size=0.8)\n",
        "\n",
        "# scale \n",
        "scl = StandardScaler()\n",
        "scl.fit(X_train)\n",
        "X_train = scl.transform(X_train)\n",
        "X_test = scl.transform(X_test)\n",
        "\n",
        "\n",
        "# visualize the data\n",
        "fig = plt.figure(figsize=(10,8))\n",
        "plt.plot(X_train[:, 0][y_train == 0], X_train[:, 1][y_train == 0], 'r^')\n",
        "plt.plot(X_train[:, 0][y_train == 1], X_train[:, 1][y_train == 1], 'bs')\n",
        "plt.xlabel(\"X1\")\n",
        "plt.ylabel(\"X2\")\n",
        "plt.title('Random Classification Data with 2 classes')\n"
      ],
      "metadata": {
        "colab": {
          "base_uri": "https://localhost:8080/",
          "height": 531
        },
        "id": "xMOfCpE2-64Q",
        "outputId": "169606e5-0800-4330-c584-7c6739b5f332"
      },
      "execution_count": null,
      "outputs": [
        {
          "output_type": "execute_result",
          "data": {
            "text/plain": [
              "Text(0.5, 1.0, 'Random Classification Data with 2 classes')"
            ]
          },
          "metadata": {},
          "execution_count": 73
        },
        {
          "output_type": "display_data",
          "data": {
            "text/plain": [
              "<Figure size 720x576 with 1 Axes>"
            ],
            "image/png": "[encoded data removed]"
          },
          "metadata": {
            "needs_background": "light"
          }
        }
      ]
    },
    {
      "cell_type": "markdown",
      "source": [
        "We now create the function that, given a trained model, some data samples $X$, and the ground truth $y$, plots the model decision boundary. "
      ],
      "metadata": {
        "id": "z-XG721nTAmz"
      }
    },
    {
      "cell_type": "code",
      "source": [
        "import numpy as np\n",
        "import matplotlib.pyplot as plt\n",
        "import pandas as pd\n",
        "from sklearn.svm import SVC\n",
        "from sklearn.metrics import accuracy_score\n",
        "\n",
        "\n",
        "def plot_discriminat_function(X,y, trained_model):\n",
        "    ## Plotting\n",
        "    x_min, x_max = X[:, 0].min() - 1, X[:, 0].max() + 1\n",
        "    y_min, y_max = X[:, 1].min() - 1, X[:, 1].max() + 1\n",
        "    # h = (x_max / x_min)/100\n",
        "    # xx, yy = np.meshgrid(np.arange(x_min, x_max, h), np.arange(y_min, y_max, h))\n",
        "    # X_plot = np.c_[xx.ravel(), yy.ravel()]\n",
        "    x_span = np.linspace(x_min, x_max, 100)\n",
        "    y_span = np.linspace(y_min, y_max, 100)\n",
        "    xx, yy = np.meshgrid(x_span, y_span)\n",
        "    X_plot = np.c_[xx.ravel(), yy.ravel()]\n",
        "\n",
        "    predicted = trained_model.predict(X_plot)\n",
        "    predicted = predicted.reshape(xx.shape)\n",
        "\n",
        "    plt.figure(figsize=(15, 5))\n",
        "    plt.subplot(121)\n",
        "    plt.contourf(xx, yy, predicted, alpha=0.5)\n",
        "    plt.set_cmap(\"gist_rainbow\") \n",
        "    # plt.scatter(X[:, 0], X[:, 1], c=y, cmap=plt.cm.Set1)\n",
        "    plt.plot(X[:, 0][y == 0], X_train[:, 1][y == 0], 'r^')\n",
        "    plt.plot(X[:, 0][y == 1], X_train[:, 1][y == 1], 'bs')\n",
        "    \n",
        "    plt.xlabel('X1')\n",
        "    plt.ylabel('X2')\n",
        "    plt.xlim(xx.min(), xx.max())\n",
        "    plt.title(trained_model)\n",
        "    plt.show()\n"
      ],
      "metadata": {
        "id": "I5oLY_XgS82W"
      },
      "execution_count": null,
      "outputs": []
    },
    {
      "cell_type": "markdown",
      "source": [
        "### Exercise 2.1 \n",
        "\n",
        "Train an SVM with:\n",
        "\n",
        "\n",
        "*   kernel = polynomial\n",
        "*   degree = 1\n",
        "*   coef0 = 0\n",
        "\n",
        "Feed the trained model into *plot_discriminat_function*, and visually analze the obtained decision boundary.\n",
        "\n"
      ],
      "metadata": {
        "id": "1A8lEDArLQaA"
      }
    },
    {
      "cell_type": "code",
      "source": [
        "# EX 2.1"
      ],
      "metadata": {
        "id": "POTDLuede8tA"
      },
      "execution_count": null,
      "outputs": []
    },
    {
      "cell_type": "code",
      "source": [
        "# solution\n",
        "svclassifier = SVC(kernel=\"poly\", degree=2, coef0=1)\n",
        "svclassifier.fit(X_train, y_train)\n",
        "plot_discriminat_function(X_train, y_train, svclassifier)\n"
      ],
      "metadata": {
        "colab": {
          "base_uri": "https://localhost:8080/",
          "height": 350
        },
        "id": "YFvdvGGT_iNL",
        "outputId": "0ffa1230-db91-436c-fa89-0dbd544d3e98"
      },
      "execution_count": null,
      "outputs": [
        {
          "output_type": "display_data",
          "data": {
            "text/plain": [
              "<Figure size 1080x360 with 1 Axes>"
            ],
            "image/png": "[encoded data removed]"
          },
          "metadata": {
            "needs_background": "light"
          }
        }
      ]
    },
    {
      "cell_type": "markdown",
      "source": [
        "You should notice that the discriminant function is not a line in the input space. "
      ],
      "metadata": {
        "id": "ViVjs4dlfh8d"
      }
    },
    {
      "cell_type": "markdown",
      "source": [
        "### Exercise 2.2\n",
        "\n",
        "Let's define now a function that, given a trained model, computes training and testing accuracy.\n",
        "\n",
        "Then, use this function over the model trained in Exercise 2.1 (previous step)."
      ],
      "metadata": {
        "id": "s9LfPR7ifvEu"
      }
    },
    {
      "cell_type": "code",
      "source": [
        "# EX 2.2"
      ],
      "metadata": {
        "id": "UGOb1HQCgEzT"
      },
      "execution_count": null,
      "outputs": []
    },
    {
      "cell_type": "code",
      "source": [
        "# SOLUTION\n",
        "def compute_accuracy(trained_model, X_train, y_train, X_test, y_test):\n",
        "    print(\"Accuracy on Train:\", accuracy_score(y_train, trained_model.predict(X_train)))\n",
        "    print(\"Accuracy on Test:\", accuracy_score(y_test, trained_model.predict(X_test)))\n",
        "\n",
        "compute_accuracy(svclassifier, X_train, y_train, X_test, y_test)"
      ],
      "metadata": {
        "id": "9ScQNL5DLjBF",
        "colab": {
          "base_uri": "https://localhost:8080/"
        },
        "outputId": "34f0f0f7-c191-47ac-e83c-b32a6d6da96a"
      },
      "execution_count": null,
      "outputs": [
        {
          "output_type": "stream",
          "name": "stdout",
          "text": [
            "Accuracy on Train: 0.9285714285714286\n",
            "Accuracy on Test: 0.9142857142857143\n"
          ]
        }
      ]
    },
    {
      "cell_type": "markdown",
      "source": [
        "### Exercise 2.3\n",
        "\n",
        "Repeat the experiment with an SVC (linear kernel) and compare it with the polynomial one in terms of both accuracy (training and testing time) and discriminant function (using the plotting function).\n"
      ],
      "metadata": {
        "id": "Tq4PNhS7g4Ef"
      }
    },
    {
      "cell_type": "code",
      "source": [
        "## EX 2.3"
      ],
      "metadata": {
        "id": "LRY59IBxhY3h"
      },
      "execution_count": null,
      "outputs": []
    },
    {
      "cell_type": "code",
      "source": [
        "## Solution\n",
        "svclassifier = SVC(kernel=\"linear\")\n",
        "svclassifier.fit(X_train, y_train)\n",
        "plot_discriminat_function(X_train, y_train, svclassifier)\n",
        "compute_accuracy(svclassifier, X_train, y_train, X_test, y_test)"
      ],
      "metadata": {
        "colab": {
          "base_uri": "https://localhost:8080/",
          "height": 386
        },
        "id": "HpvlLJaYhbXm",
        "outputId": "8419b509-203a-4d2f-fb2c-1fc998d1c351"
      },
      "execution_count": null,
      "outputs": [
        {
          "output_type": "display_data",
          "data": {
            "text/plain": [
              "<Figure size 1080x360 with 1 Axes>"
            ],
            "image/png": "[encoded data removed]"
          },
          "metadata": {
            "needs_background": "light"
          }
        },
        {
          "output_type": "stream",
          "name": "stdout",
          "text": [
            "Accuracy on Train: 0.8767857142857143\n",
            "Accuracy on Test: 0.8928571428571429\n"
          ]
        }
      ]
    },
    {
      "cell_type": "markdown",
      "source": [
        "### Exercise 2.4\n",
        "\n",
        "Repeat what done in Exercise 2.3. \n",
        "This time, use an RBF kernel at the varying of $\\sigma$ = [0.001, 0.1, 10, 100, 500]."
      ],
      "metadata": {
        "id": "VlQvYrM_Ld07"
      }
    },
    {
      "cell_type": "code",
      "source": [
        "# EX 2.4 here"
      ],
      "metadata": {
        "id": "YqD5vPswP670"
      },
      "execution_count": null,
      "outputs": []
    },
    {
      "cell_type": "code",
      "source": [
        "# EX 2.4 - Solution\n",
        "for sigma in [0.001, 0.1, 10, 100, 500]:\n",
        "  svclassifier = SVC(kernel=\"rbf\", gamma=sigma)\n",
        "  svclassifier.fit(X_train, y_train)\n",
        "  plot_discriminat_function(X_train, y_train, svclassifier)\n",
        "  compute_accuracy(svclassifier, X_train, y_train, X_test, y_test)\n"
      ],
      "metadata": {
        "id": "jHOTWxXbMBGM",
        "colab": {
          "base_uri": "https://localhost:8080/",
          "height": 1000
        },
        "outputId": "489e47f7-bedb-4ca9-d417-8ae0bffbf1e4"
      },
      "execution_count": null,
      "outputs": [
        {
          "output_type": "display_data",
          "data": {
            "text/plain": [
              "<Figure size 1080x360 with 1 Axes>"
            ],
            "image/png": "[encoded data removed]"
          },
          "metadata": {
            "needs_background": "light"
          }
        },
        {
          "output_type": "stream",
          "name": "stdout",
          "text": [
            "Accuracy on Train: 0.8875\n",
            "Accuracy on Test: 0.8714285714285714\n"
          ]
        },
        {
          "output_type": "display_data",
          "data": {
            "text/plain": [
              "<Figure size 1080x360 with 1 Axes>"
            ],
            "image/png": "[encoded data removed]"
          },
          "metadata": {
            "needs_background": "light"
          }
        },
        {
          "output_type": "stream",
          "name": "stdout",
          "text": [
            "Accuracy on Train: 0.9178571428571428\n",
            "Accuracy on Test: 0.9071428571428571\n"
          ]
        },
        {
          "output_type": "display_data",
          "data": {
            "text/plain": [
              "<Figure size 1080x360 with 1 Axes>"
            ],
            "image/png": "[encoded data removed]"
          },
          "metadata": {
            "needs_background": "light"
          }
        },
        {
          "output_type": "stream",
          "name": "stdout",
          "text": [
            "Accuracy on Train: 0.9446428571428571\n",
            "Accuracy on Test: 0.9285714285714286\n"
          ]
        },
        {
          "output_type": "display_data",
          "data": {
            "text/plain": [
              "<Figure size 1080x360 with 1 Axes>"
            ],
            "image/png": "[encoded data removed]"
          },
          "metadata": {
            "needs_background": "light"
          }
        },
        {
          "output_type": "stream",
          "name": "stdout",
          "text": [
            "Accuracy on Train: 0.9696428571428571\n",
            "Accuracy on Test: 0.9214285714285714\n"
          ]
        },
        {
          "output_type": "display_data",
          "data": {
            "text/plain": [
              "<Figure size 1080x360 with 1 Axes>"
            ],
            "image/png": "[encoded data removed]"
          },
          "metadata": {
            "needs_background": "light"
          }
        },
        {
          "output_type": "stream",
          "name": "stdout",
          "text": [
            "Accuracy on Train: 0.9910714285714286\n",
            "Accuracy on Test: 0.8285714285714286\n"
          ]
        }
      ]
    },
    {
      "cell_type": "markdown",
      "source": [
        "You should notice that the higher $\\sigma$, the better the model over the training data. \n",
        "\n",
        "However, the accuracy on the test set does not show the same behaviour: it improves until $\\sigma=10$, and then it decreses. With high $\\sigma$ values we overfit our data: the decision function tends to coincide with the training examples of the blue class (basically memorizing them). "
      ],
      "metadata": {
        "id": "RO6JaUoyRGqw"
      }
    },
    {
      "cell_type": "markdown",
      "source": [
        "## Exercise 3: Comparing the Execution Times of Learning Algorithms\n",
        "\n",
        "In this exercise, we are going to experiment with the computational cost, i.e. training and prediction time, of different learning algorithms. \n",
        "\n",
        "The exercise is conducted over the *MNIST* dataset. Since we are not optimising the hyperparameters of the learning algorithms, but we'll use the default values, we won't create the validation set. \n",
        "\n",
        "**ALERT: for this entire exercise, do not set any random_state**"
      ],
      "metadata": {
        "id": "PVAv4ILo0A2o"
      }
    },
    {
      "cell_type": "code",
      "source": [
        "from sklearn.preprocessing import StandardScaler\n",
        "# Split data into 80% train and 20% test subsets\n",
        "X_train, X_test, y_train, y_test = train_test_split(\n",
        "    digits.data, digits.target, test_size=0.2, shuffle=False\n",
        ")\n",
        "\n",
        "### scale the data \n",
        "scl = StandardScaler().fit(X_train)\n",
        "X_train_scl = scl.transform(X_train)\n",
        "X_test_scl = scl.transform(X_test)\n",
        "\n",
        "num_classes = len(set(y_train))\n",
        "num_features = X_train.shape[1]\n",
        "\n",
        "print(f\"train size={len(X_train_scl)}, test size={len(X_test_scl)}\")\n",
        "print(f\"number of features = {num_features}; number of classes = {num_classes}\")"
      ],
      "metadata": {
        "id": "uUOkdvei0A2x",
        "colab": {
          "base_uri": "https://localhost:8080/"
        },
        "outputId": "00b77201-3047-480d-a6b2-be718aaa3a57"
      },
      "execution_count": null,
      "outputs": [
        {
          "output_type": "stream",
          "name": "stdout",
          "text": [
            "train size=1437, test size=360\n",
            "number of features = 64; number of classes = 10\n"
          ]
        }
      ]
    },
    {
      "cell_type": "markdown",
      "source": [
        "### Exercise 3.1: Function for Collecting Stats on Execution Time and Accuracy\n",
        "\n",
        "Create a function that, given a learning algorithm implemented in Sklearn: 1) train it on the training set; 2) compute predictions over the training and test sets.\n",
        "The function needs to keep track of the time needed to do training, the time needed to make predictions, the accuracy on the training and test sets. \n",
        " Such values should be defined as the average over 5 executions. \n",
        "\n",
        "Specifically, the results should be added to the following lists:\n",
        "\n",
        "1.   tr_time_list = list containing the training time of a specific model.\n",
        "2.   te_time_list = list containing the testing time of a specific model; this execution time contains the prediction on both train and test splits. \n",
        "3.   tr_acc_list = list containing the training accuracy of a specific model.\n",
        "4.   te_acc_list = list containing the accuracy on the test set of a specific model.\n",
        "5.   model_name_list = list containing the model name.\n",
        "\n",
        "Complete the code below that implement the function described in this box."
      ],
      "metadata": {
        "id": "_biIUlTV0A2x"
      }
    },
    {
      "cell_type": "code",
      "source": [
        "## Ex 3.1 \n",
        "from sklearn.linear_model import Perceptron\n",
        "\n",
        "def test_algorithm(learning_alg, training_set, test_set):\n",
        "  \n",
        "  #empty list to keep track of the running times and accuracy values of each repetition\n",
        "  train_time, test_time, train_accuracy, test_accuracy = [], [], [], [] \n",
        "\n",
        "  #\n",
        "  # ADD YOUR CODE HERE\n",
        "  #\n",
        "\n",
        "  #the function need to return all the stats computed. The following line of code does that\n",
        "  return np.mean(train_time), np.mean(test_time), np.mean(train_accuracy), np.mean(test_accuracy)\n",
        "\n",
        "# You can test your function by invoking it as follows\n",
        "clf = Perceptron()\n",
        "tr_time, te_time, tr_acc, te_acc = test_algorithm(clf, X_train_scl, X_test_scl)\n",
        "print(f\"Perceptron\\n   Training time: {tr_time}\\n   Prediction time: {te_time}\")\n",
        "print(f\"   Accuracy on train: {tr_acc}\\n   Accuracy on test {te_acc}\")"
      ],
      "metadata": {
        "id": "r9ERa9DL0A2y"
      },
      "execution_count": null,
      "outputs": []
    },
    {
      "cell_type": "code",
      "source": [
        "## Ex 3.1 SOLUTION\n",
        "from sklearn.linear_model import Perceptron\n",
        "\n",
        "def test_algorithm(learning_alg, training_set, test_set):\n",
        "  \n",
        "  #empty list to keep track of the running times and accuracy values of each repetition\n",
        "  train_time, test_time, train_accuracy, test_accuracy = [], [], [], [] \n",
        "\n",
        "  for _ in range(5): #repeat the runs 5 times\n",
        "\n",
        "    start_time = time.time() # get the starting time\n",
        "    learning_alg.fit(X_train_scl, y_train)\n",
        "    end_time = time.time() # get the ending time\n",
        "    train_time.append(end_time - start_time)\n",
        "\n",
        "    start_time = time.time() # get the starting time\n",
        "    y_train_pred = learning_alg.predict(X_train_scl)\n",
        "    y_test_pred = learning_alg.predict(X_test_scl)\n",
        "    end_time = time.time() # get the ending time\n",
        "    test_time.append(end_time - start_time)\n",
        "    \n",
        "    train_accuracy.append(accuracy_score(y_train, y_train_pred))\n",
        "    test_accuracy.append(accuracy_score(y_test, y_test_pred))\n",
        "\n",
        "  return np.mean(train_time), np.mean(test_time), np.mean(train_accuracy), np.mean(test_accuracy)\n",
        "\n",
        "# You can test your function by invoking it as follows\n",
        "clf = Perceptron()\n",
        "tr_time, te_time, tr_acc, te_acc = test_algorithm(clf, X_train_scl, X_test_scl)\n",
        "print(f\"Perceptron\\n   Training time: {tr_time}\\n   Prediction time: {te_time}\")\n",
        "print(f\"   Accuracy on train: {tr_acc}\\n   Accuracy on test {te_acc}\")"
      ],
      "metadata": {
        "id": "p90vs-SvCCb2",
        "colab": {
          "base_uri": "https://localhost:8080/"
        },
        "outputId": "d18535a1-ef1f-47b1-a20f-4388d46da715"
      },
      "execution_count": null,
      "outputs": [
        {
          "output_type": "stream",
          "name": "stdout",
          "text": [
            "Perceptron\n",
            "   Training time: 0.051071691513061526\n",
            "   Prediction time: 0.0009092807769775391\n",
            "   Accuracy on train: 0.9832985386221293\n",
            "   Accuracy on test 0.8916666666666668\n"
          ]
        }
      ]
    },
    {
      "cell_type": "markdown",
      "source": [
        "### Exercise 3.2 \n",
        "\n",
        "Now use the function test_algorithm() implemented in the previous exercise to collect statistics over the following algorithms: \n",
        "\n",
        "1. Perceptron\n",
        "2. Logistic Regression\n",
        "3. SVM with linear kernel\n",
        "4. SVM with polynomial kernel of degree 2\n",
        "5. SVM with polynomial kernel of degree 3\n",
        "6. Decision Tree using Entropy for splitting\n",
        "7. K-NN with K=3\n",
        "\n",
        "The statistics must be collected in the lists: tr_time_list, te_time_list, tr_acc_list, te_acc_list, model_name_list, which are defined in the previuos exercise. In order to reduce your waiting time, you might want to use more than one cell, even one per algorithm. "
      ],
      "metadata": {
        "id": "LC77ALWr0A2y"
      }
    },
    {
      "cell_type": "code",
      "source": [
        "# EX 1.2\n",
        "from sklearn.linear_model import LogisticRegression\n",
        "from sklearn.svm import SVC\n",
        "from sklearn import tree\n",
        "\n",
        "#initialize the lists collecting the stats\n",
        "tr_time_list, te_time_list, tr_acc_list, te_acc_list, model_name_list = [], [], [], [], []\n",
        "\n",
        "## ADD YOUR CODE HERE THAT INVOKES test_algorithm() and collects the statistics in the lists above\n",
        "\n"
      ],
      "metadata": {
        "id": "EmchSJh9Ik72"
      },
      "execution_count": null,
      "outputs": []
    },
    {
      "cell_type": "code",
      "source": [
        "# EX 1.2 SOLUTION\n",
        "from sklearn.linear_model import LogisticRegression\n",
        "from sklearn.svm import SVC\n",
        "from sklearn import tree\n",
        "from sklearn.neighbors import KNeighborsClassifier\n",
        "\n",
        "#initialize the lists collecting the stats\n",
        "tr_time_list, te_time_list, tr_acc_list, te_acc_list, model_name_list = [], [], [], [], []\n",
        "\n",
        "model_name_list.append(\"Perceptron\")\n",
        "train_time, test_time, train_accuracy, test_accuracy = test_algorithm(Perceptron(), X_train_scl, X_test_scl)\n",
        "tr_time_list.append(train_time)\n",
        "te_time_list.append(test_time); \n",
        "tr_acc_list.append(train_accuracy)\n",
        "te_acc_list.append(test_accuracy)\n",
        "\n",
        "model_name_list.append(\"Logistic Regression\")\n",
        "train_time, test_time, train_accuracy, test_accuracy = test_algorithm(LogisticRegression(), X_train_scl, X_test_scl)\n",
        "tr_time_list.append(train_time)\n",
        "te_time_list.append(test_time); \n",
        "tr_acc_list.append(train_accuracy)\n",
        "te_acc_list.append(test_accuracy)\n",
        "\n",
        "model_name_list.append(\"SVM Linear Kernel\")\n",
        "train_time, test_time, train_accuracy, test_accuracy = test_algorithm(SVC(kernel=\"linear\"), X_train_scl, X_test_scl)\n",
        "tr_time_list.append(train_time)\n",
        "te_time_list.append(test_time); \n",
        "tr_acc_list.append(train_accuracy)\n",
        "te_acc_list.append(test_accuracy)\n",
        "\n",
        "model_name_list.append(\"SVM Polynomial Kernel d=2\")\n",
        "train_time, test_time, train_accuracy, test_accuracy = test_algorithm(SVC(kernel=\"poly\", degree=2), X_train_scl, X_test_scl)\n",
        "tr_time_list.append(train_time)\n",
        "te_time_list.append(test_time); \n",
        "tr_acc_list.append(train_accuracy)\n",
        "te_acc_list.append(test_accuracy)\n",
        "\n",
        "model_name_list.append(\"SVM Polynomial Kernel d=3\")\n",
        "train_time, test_time, train_accuracy, test_accuracy = test_algorithm(SVC(kernel=\"poly\", degree=3), X_train_scl, X_test_scl)\n",
        "tr_time_list.append(train_time)\n",
        "te_time_list.append(test_time); \n",
        "tr_acc_list.append(train_accuracy)\n",
        "te_acc_list.append(test_accuracy)\n",
        "\n",
        "model_name_list.append(\"Decision Tree\")\n",
        "train_time, test_time, train_accuracy, test_accuracy = test_algorithm(tree.DecisionTreeClassifier(criterion='entropy'), X_train_scl, X_test_scl)\n",
        "tr_time_list.append(train_time)\n",
        "te_time_list.append(test_time); \n",
        "tr_acc_list.append(train_accuracy)\n",
        "te_acc_list.append(test_accuracy)\n",
        "\n",
        "model_name_list.append(\"3-NN\")\n",
        "train_time, test_time, train_accuracy, test_accuracy = test_algorithm(KNeighborsClassifier(n_neighbors=3), X_train_scl, X_test_scl)\n",
        "tr_time_list.append(train_time)\n",
        "te_time_list.append(test_time); \n",
        "tr_acc_list.append(train_accuracy)\n",
        "te_acc_list.append(test_accuracy)\n",
        "\n",
        "for i in range(len(tr_time_list)):\n",
        "  print(f\"{model_name_list[i]}\\n   Training time: {tr_time_list[i]}\\n   Prediction time: {te_time_list[i]}\")\n",
        "  print(f\"   Accuracy on train: {tr_acc_list[i]}\\n   Accuracy on test {te_acc_list[i]}\")"
      ],
      "metadata": {
        "id": "FYtAkXU5IoN9",
        "colab": {
          "base_uri": "https://localhost:8080/"
        },
        "outputId": "718ccf8c-1555-4747-aa33-dc1b7f11af6d"
      },
      "execution_count": null,
      "outputs": [
        {
          "output_type": "stream",
          "name": "stdout",
          "text": [
            "Perceptron\n",
            "   Training time: 0.050374174118041994\n",
            "   Prediction time: 0.0009070396423339844\n",
            "   Accuracy on train: 0.9832985386221293\n",
            "   Accuracy on test 0.8916666666666668\n",
            "Logistic Regression\n",
            "   Training time: 0.2029794216156006\n",
            "   Prediction time: 0.0007637977600097656\n",
            "   Accuracy on train: 1.0\n",
            "   Accuracy on test 0.8972222222222224\n",
            "SVM Linear Kernel\n",
            "   Training time: 0.02747511863708496\n",
            "   Prediction time: 0.02979726791381836\n",
            "   Accuracy on train: 1.0\n",
            "   Accuracy on test 0.9277777777777778\n",
            "SVM Polynomial Kernel d=2\n",
            "   Training time: 0.052008438110351565\n",
            "   Prediction time: 0.053873538970947266\n",
            "   Accuracy on train: 0.9958246346555324\n",
            "   Accuracy on test 0.9416666666666667\n",
            "SVM Polynomial Kernel d=3\n",
            "   Training time: 0.06018662452697754\n",
            "   Prediction time: 0.05474667549133301\n",
            "   Accuracy on train: 0.9846903270702854\n",
            "   Accuracy on test 0.9027777777777779\n",
            "Decision Tree\n",
            "   Training time: 0.025702428817749024\n",
            "   Prediction time: 0.0008261680603027343\n",
            "   Accuracy on train: 1.0\n",
            "   Accuracy on test 0.7877777777777778\n",
            "3-NN\n",
            "   Training time: 0.0006105899810791016\n",
            "   Prediction time: 0.11555685997009277\n",
            "   Accuracy on train: 0.9895615866388308\n",
            "   Accuracy on test 0.9416666666666667\n"
          ]
        }
      ]
    },
    {
      "cell_type": "markdown",
      "source": [
        "### Visualising the Results\n",
        "\n",
        "We can now visualise the results obtained. Remember that here, each of the five lists must contain 7 values. Double check it: if you have more, you might have re-executed a cell multiple times. If so, just re-execute the entire notebook. "
      ],
      "metadata": {
        "id": "g8xY-UfS0A20"
      }
    },
    {
      "cell_type": "code",
      "source": [
        "#this cell checks if you have the right amount of info \n",
        "expected_list_length = 7\n",
        "assert len(tr_acc_list) == expected_list_length\n",
        "assert len(te_acc_list) == expected_list_length\n",
        "assert len(tr_time_list) == expected_list_length\n",
        "assert len(te_time_list) == expected_list_length\n",
        "assert len(model_name_list) == expected_list_length"
      ],
      "metadata": {
        "id": "SUiGOOID0A20"
      },
      "execution_count": null,
      "outputs": []
    },
    {
      "cell_type": "code",
      "source": [
        "import matplotlib.cm as cm\n",
        "colors = cm.rainbow(np.linspace(0, 1, len(model_name_list)))\n",
        "for x, y, c, m in zip(te_acc_list, tr_time_list, colors, model_name_list):\n",
        "    plt.scatter(x, y, color = c, label = m)\n",
        "plt.legend()\n",
        "plt.xlabel(\"Test Accuracy\")\n",
        "plt.ylabel(\"Training Time [s]\")\n"
      ],
      "metadata": {
        "id": "4lQf0yi-0A20",
        "colab": {
          "base_uri": "https://localhost:8080/",
          "height": 297
        },
        "outputId": "f4bfb8d2-8c1a-4d09-d68b-1954a2a03aa1"
      },
      "execution_count": null,
      "outputs": [
        {
          "output_type": "execute_result",
          "data": {
            "text/plain": [
              "Text(0, 0.5, 'Training Time [s]')"
            ]
          },
          "metadata": {},
          "execution_count": 89
        },
        {
          "output_type": "display_data",
          "data": {
            "text/plain": [
              "<Figure size 432x288 with 1 Axes>"
            ],
            "image/png": "[encoded data removed]"
          },
          "metadata": {
            "needs_background": "light"
          }
        }
      ]
    },
    {
      "cell_type": "code",
      "source": [
        "import matplotlib.cm as cm\n",
        "colors = cm.rainbow(np.linspace(0, 1, len(model_name_list)))\n",
        "for x, y, c, m in zip(te_acc_list, te_time_list, colors, model_name_list):\n",
        "    plt.scatter(x, y, color = c, label = m)\n",
        "plt.legend()\n",
        "plt.xlabel(\"Test Accuracy\")\n",
        "plt.ylabel(\"Prediction Time [s]\")\n"
      ],
      "metadata": {
        "id": "wepQtM1v0A20",
        "colab": {
          "base_uri": "https://localhost:8080/",
          "height": 299
        },
        "outputId": "fe1cc8e3-262a-4431-9083-7a9a41651cee"
      },
      "execution_count": null,
      "outputs": [
        {
          "output_type": "execute_result",
          "data": {
            "text/plain": [
              "Text(0, 0.5, 'Prediction Time [s]')"
            ]
          },
          "metadata": {},
          "execution_count": 90
        },
        {
          "output_type": "display_data",
          "data": {
            "text/plain": [
              "<Figure size 432x288 with 1 Axes>"
            ],
            "image/png": "[encoded data removed]"
          },
          "metadata": {
            "needs_background": "light"
          }
        }
      ]
    },
    {
      "cell_type": "markdown",
      "source": [
        "## Exercise 3.3\n",
        "Compute the same stats (training and prediction time, accuracies) for the following Neural Network (assuming the size of the input vectors is n)\n",
        "*   One hidden layer, with 2*n nodes, each with relu activation\n",
        "*   A second hidden layer, with n/2 nodes, each with relu activation\n",
        "*   One output layer made of as many nodes as the classes of the task, with softmax activation\n",
        "*   Use cross entropy as loss and sgd as optimiser; use 20% of the training set as validation and apply early stopping with patience 3; train for 300 epochs.  \n",
        "\n",
        "Do not forget to turn the gold labels y_train and y_test into one hot encoding. \n",
        "\n",
        "Repeat the runs 5 times. Record the training and test time, as well as the accuracies on test into the following lists.\n",
        "```\n",
        "train_time, test_time, train_accuracy, test_accuracy\n",
        "``` \n",
        "In order to have a different model each run, remember to redefine the model for each of the 5 runs (i.e. inside the for loop). "
      ],
      "metadata": {
        "id": "tOI9nYI11pX1"
      }
    },
    {
      "cell_type": "code",
      "source": [
        "# EX 3.3\n",
        "\n",
        "from keras.utils import to_categorical\n",
        "from keras.models import Sequential\n",
        "from keras.layers import Dense\n",
        "from tensorflow.python.framework.random_seed import set_random_seed\n",
        "from keras.callbacks import EarlyStopping\n",
        "\n",
        "np.random.seed(5)\n",
        "set_random_seed(42)\n",
        "\n",
        "train_time, test_time, train_accuracy, test_accuracy = ([],[],[],[])\n",
        "\n",
        "# ADD YOUR CODE HERE\n"
      ],
      "metadata": {
        "id": "Zb3Thds1Nkvc"
      },
      "execution_count": null,
      "outputs": []
    },
    {
      "cell_type": "code",
      "source": [
        "# EX 3.3 SOLUTION\n",
        "\n",
        "from keras.utils import to_categorical\n",
        "from keras.models import Sequential\n",
        "from keras.layers import Dense\n",
        "from tensorflow.python.framework.random_seed import set_random_seed\n",
        "from keras.callbacks import EarlyStopping\n",
        "\n",
        "np.random.seed(5)\n",
        "set_random_seed(42)\n",
        "\n",
        "train_time, test_time, train_accuracy, test_accuracy = ([],[],[],[])\n",
        "\n",
        "#categorization\n",
        "y_train_cat = to_categorical(y_train, num_classes)\n",
        "y_test_cat = to_categorical(y_test, num_classes)\n",
        "\n",
        "es = EarlyStopping(monitor='val_loss', #quantity to be monitored\n",
        "                   mode='min', #we look for decreasing patterns stop \n",
        "                   patience = 3, #number of epochs with no improvement\n",
        "                   verbose=1)\n",
        "\n",
        "for i in range(5):\n",
        "\n",
        "  model = Sequential()  \n",
        "  model.add(Dense(input_dim = num_features, units=2*num_features, activation='relu')) \n",
        "  model.add(Dense(input_dim = num_features, units=num_features/2, activation='relu')) \n",
        "  model.add(Dense(num_classes, activation='softmax')) #output layer\n",
        "  model.compile(loss='categorical_crossentropy', optimizer=\"sgd\", metrics=['accuracy'])\n",
        "  #model.summary()\n",
        "\n",
        "  start_time = time.time() \n",
        "  history = model.fit(X_train_scl, y_train_cat, epochs=300, verbose=0, validation_split = 0.20, callbacks=[es])\n",
        "  end_time = time.time() \n",
        "  train_time.append(end_time - start_time)\n",
        "  \n",
        "  start_time = time.time()\n",
        "  train_accuracy.append(model.evaluate(X_train_scl, y_train_cat, verbose=0)[1])\n",
        "  test_accuracy.append(model.evaluate(X_test_scl, y_test_cat, verbose=0)[1])\n",
        "  end_time = time.time() \n",
        "  test_time.append(end_time - start_time)\n",
        "  #print(f\"run {i+1} test accuracy: {test_accuracy[-1]}\")\n",
        "\n",
        "print(\"Average Model Test Accuracy: %.4f%%\" % (np.mean(test_accuracy)))\n"
      ],
      "metadata": {
        "id": "o2db7OfKNsQT",
        "colab": {
          "base_uri": "https://localhost:8080/"
        },
        "outputId": "ed7e2631-ac66-439e-c9c3-04647459734e"
      },
      "execution_count": null,
      "outputs": [
        {
          "output_type": "stream",
          "name": "stdout",
          "text": [
            "Epoch 130: early stopping\n",
            "Epoch 244: early stopping\n",
            "Epoch 208: early stopping\n",
            "Epoch 138: early stopping\n",
            "Epoch 173: early stopping\n",
            "Average Model Test Accuracy: 0.9050%\n"
          ]
        }
      ]
    },
    {
      "cell_type": "markdown",
      "source": [
        "Let's check the stats we got."
      ],
      "metadata": {
        "id": "eH2SYFwq5Ot_"
      }
    },
    {
      "cell_type": "code",
      "source": [
        "print(train_accuracy)\n",
        "print(test_accuracy)\n",
        "print(train_time)\n",
        "print(test_time)\n",
        "print(\"\\nDifference between fastest and shortest training times:\", max(train_time)-min(train_time))\n",
        "print(\"Difference bwteen best and worst test results:\", max(test_accuracy)-min(test_accuracy))"
      ],
      "metadata": {
        "id": "fre143NH6viK",
        "colab": {
          "base_uri": "https://localhost:8080/"
        },
        "outputId": "863d871e-df12-44ff-b6ec-e9f391c53e2f"
      },
      "execution_count": null,
      "outputs": [
        {
          "output_type": "stream",
          "name": "stdout",
          "text": [
            "[0.9923451542854309, 0.9895615577697754, 0.9923451542854309, 0.9937369227409363, 0.9909533858299255]\n",
            "[0.9138888716697693, 0.9027777910232544, 0.9138888716697693, 0.9055555462837219, 0.8888888955116272]\n",
            "[10.749168872833252, 17.564311265945435, 15.54799509048462, 10.606125354766846, 13.127820491790771]\n",
            "[0.6053206920623779, 0.27593207359313965, 5.6611223220825195, 10.519998788833618, 8.00409460067749]\n",
            "\n",
            "Difference between fastest and shortest training times: 6.958185911178589\n",
            "Difference bwteen best and worst test results: 0.02499997615814209\n"
          ]
        }
      ]
    },
    {
      "cell_type": "markdown",
      "source": [
        "Notice that the early stopping influences the training times. We found 11.4 seconds difference on our runs (114 iterations difference) between the fastest and slowest one.\n",
        "\n",
        "The training and test accuracies also vary a quite a bit. Specifically, there is 2.5% difference between the best and worst accuracy values on the test set. This is not uncommon, especially as the number of layers/parameters of the network increases. So, whenever the computational resources allows it, test a neural network on multiple runs using a different random seed each time, then report mean and variance. This is to rule out the chance that the performance you get is only due to a lucky choice of the random seed. \n"
      ],
      "metadata": {
        "id": "dKiBYLHBtjG9"
      }
    }
  ]
}