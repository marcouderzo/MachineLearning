{
  "nbformat": 4,
  "nbformat_minor": 0,
  "metadata": {
    "colab": {
      "provenance": [],
      "include_colab_link": true
    },
    "kernelspec": {
      "name": "python3",
      "display_name": "Python 3"
    },
    "language_info": {
      "name": "python"
    }
  },
  "cells": [
    {
      "cell_type": "markdown",
      "metadata": {
        "id": "view-in-github",
        "colab_type": "text"
      },
      "source": [
        "<a href=\"https://colab.research.google.com/github/marcouderzo/MachineLearning/blob/main/LAB01_sklearn_classification_solved.ipynb\" target=\"_parent\"><img src=\"https://colab.research.google.com/assets/colab-badge.svg\" alt=\"Open In Colab\"/></a>"
      ]
    },
    {
      "cell_type": "markdown",
      "metadata": {
        "id": "IoYYpizuMiwJ"
      },
      "source": [
        "#Lab 1: Introduction to ScikiLearn and Classification Tasks\n",
        "\n",
        "During this Lab, we aim to achieve the following:\n",
        "\n",
        "\n",
        "*   Familiarize with <a href=\"https://scikit-learn.org/stable/\"> scikit-learn </a>, an essential python library in data science;\n",
        "*   learn how to approach a classification task with scikit-learn.\n",
        "\n",
        "In this notebook, we learn to use Scikit-Learn with a practical example and then, in the second part, we will test our knowledge by doing some exercises.\n",
        "\n"
      ]
    },
    {
      "cell_type": "markdown",
      "metadata": {
        "id": "YssOU-ZhNczi"
      },
      "source": [
        "# Part 1: A Classification Example With Scikit-Learn\n",
        "\n",
        "We start our lab by implementing the *perceptron* using  scikit-learn. "
      ]
    },
    {
      "cell_type": "code",
      "metadata": {
        "id": "02sO8JSRMXXZ"
      },
      "source": [
        "import numpy as np\n",
        "import matplotlib.pyplot as plt\n",
        "from sklearn import datasets"
      ],
      "execution_count": null,
      "outputs": []
    },
    {
      "cell_type": "code",
      "metadata": {
        "id": "lhTmIt8NN0ur"
      },
      "source": [
        "X_toy, y_toy = datasets.make_blobs(n_samples=150,n_features=2,\n",
        "                           centers=2,cluster_std=1.05,\n",
        "                           random_state=2)\n",
        "y_toy[y_toy==0]=-1"
      ],
      "execution_count": null,
      "outputs": []
    },
    {
      "cell_type": "markdown",
      "metadata": {
        "id": "0q2QIo9EPe7h"
      },
      "source": [
        "We can now define our classifier: a perceptron <a href=\"https://scikit-learn.org/stable/modules/generated/sklearn.linear_model.Perceptron.html\"> [link] </a>."
      ]
    },
    {
      "cell_type": "code",
      "metadata": {
        "id": "RYjwdbMaPvsX"
      },
      "source": [
        "from sklearn.linear_model import Perceptron\n",
        "\n",
        "# we define two peceptrons: one with and one without intercept estimation (our theta_0)\n",
        "clf1 = Perceptron(fit_intercept = False)\n",
        "clf2 = Perceptron(fit_intercept = True)"
      ],
      "execution_count": null,
      "outputs": []
    },
    {
      "cell_type": "markdown",
      "metadata": {
        "id": "-N6MC_b2QJ_K"
      },
      "source": [
        "Sklearn defines standard functions for models, like *fit* and *predict*."
      ]
    },
    {
      "cell_type": "code",
      "metadata": {
        "id": "S4qlKvhrQQnV"
      },
      "source": [
        "#train phase\n",
        "clf1.fit(X_toy, y_toy)\n",
        "clf2.fit(X_toy, y_toy)\n",
        "\n",
        "#estimation (y_hat)\n",
        "y_pred_clf1 = clf1.predict(X_toy)\n",
        "y_pred_clf2 = clf2.predict(X_toy)\n"
      ],
      "execution_count": null,
      "outputs": []
    },
    {
      "cell_type": "code",
      "source": [
        "y_pred_clf1"
      ],
      "metadata": {
        "colab": {
          "base_uri": "https://localhost:8080/"
        },
        "id": "VNdIhxmi5neD",
        "outputId": "8628b7df-78f1-4337-c70a-4fa73dd7d9b0"
      },
      "execution_count": null,
      "outputs": [
        {
          "output_type": "execute_result",
          "data": {
            "text/plain": [
              "array([-1, -1,  1,  1, -1, -1, -1, -1,  1, -1, -1, -1, -1,  1,  1, -1, -1,\n",
              "       -1,  1, -1, -1,  1, -1,  1,  1,  1,  1, -1, -1, -1,  1,  1,  1, -1,\n",
              "        1, -1,  1, -1,  1, -1, -1, -1, -1, -1, -1,  1, -1, -1, -1,  1, -1,\n",
              "       -1, -1, -1, -1, -1, -1, -1, -1, -1, -1,  1, -1, -1, -1, -1,  1, -1,\n",
              "        1, -1, -1,  1, -1, -1, -1, -1,  1, -1,  1,  1,  1, -1, -1,  1, -1,\n",
              "       -1, -1, -1, -1, -1, -1,  1, -1,  1, -1, -1, -1,  1,  1, -1, -1, -1,\n",
              "        1, -1, -1,  1, -1, -1, -1, -1, -1,  1, -1, -1, -1, -1, -1, -1, -1,\n",
              "        1, -1, -1, -1, -1, -1, -1, -1, -1,  1, -1, -1,  1, -1, -1, -1, -1,\n",
              "       -1,  1, -1, -1, -1, -1, -1, -1, -1, -1, -1, -1,  1,  1])"
            ]
          },
          "metadata": {},
          "execution_count": 6
        }
      ]
    },
    {
      "cell_type": "markdown",
      "metadata": {
        "id": "G7v6JjDVQnLH"
      },
      "source": [
        "How to evaluate our models' performance? <br>\n",
        "Scikit-learn offers a broad set of evaluation functions already implemented <a href = \"https://scikit-learn.org/stable/modules/classes.html#module-sklearn.metrics\">[link]</a>."
      ]
    },
    {
      "cell_type": "code",
      "metadata": {
        "id": "W3wse3MyQmp7",
        "colab": {
          "base_uri": "https://localhost:8080/"
        },
        "outputId": "e12c71ed-45bf-48ba-d04b-f8339f508046"
      },
      "source": [
        "from sklearn.metrics import accuracy_score\n",
        "\n",
        "print(f\"CLF1 -- no intercept.\\tACC: {accuracy_score(y_toy, y_pred_clf1)}\")\n",
        "print(f\"CLF2 -- with intercept.\\tACC: {accuracy_score(y_toy, y_pred_clf2)}\")"
      ],
      "execution_count": null,
      "outputs": [
        {
          "output_type": "stream",
          "name": "stdout",
          "text": [
            "CLF1 -- no intercept.\tACC: 0.7733333333333333\n",
            "CLF2 -- with intercept.\tACC: 1.0\n"
          ]
        }
      ]
    },
    {
      "cell_type": "markdown",
      "metadata": {
        "id": "zpjsDkvVN_vD"
      },
      "source": [
        "## Model Selection\n",
        "When defining or training a model, we have the so called *hyperparameters*, i.e., different settings to configure for our training strategy.  <br>\n",
        "The question is: *how can we decide the best configuration setting for the task?* <br>\n",
        "The answer is the usage of *training* and *validation* partitions. <br>\n",
        "We can use sklearn to do that: https://scikit-learn.org/stable/modules/generated/sklearn.model_selection.train_test_split.html."
      ]
    },
    {
      "cell_type": "code",
      "metadata": {
        "colab": {
          "base_uri": "https://localhost:8080/"
        },
        "id": "u53o2430OsJG",
        "outputId": "52d68198-9d86-47e1-a50c-099326284b18"
      },
      "source": [
        "from sklearn.model_selection import train_test_split\n",
        "\n",
        "X_train, X_val, y_train, y_val = train_test_split(X_toy, y_toy, \n",
        "                                                  train_size = 0.8, random_state = 123)\n",
        "\n",
        "print(f\"Original size = {X_toy.shape[0]}\\tTrain size = {X_train.shape[0]}\\tVal size = {X_val.shape[0]}\")  # alternative way to use the print when there are  \n",
        "                                                                                                          # variables and text to print together"
      ],
      "execution_count": null,
      "outputs": [
        {
          "output_type": "stream",
          "name": "stdout",
          "text": [
            "Original size = 150\tTrain size = 120\tVal size = 30\n"
          ]
        }
      ]
    },
    {
      "cell_type": "markdown",
      "metadata": {
        "id": "SK6pa1LuRlgR"
      },
      "source": [
        "# Part 2: Exercises"
      ]
    },
    {
      "cell_type": "markdown",
      "metadata": {
        "id": "rfmw2jjz4g_M"
      },
      "source": [
        "### Ex 2.1 Logistic Regression\n",
        "\n",
        "**Ex 2.1.1** Use Scikit-Learn to train a <a href=\"https://scikit-learn.org/stable/modules/generated/sklearn.linear_model.LogisticRegression.html\">Logistic Regression</a> classifier with default parameters over the previously defined dataset (Lab introduction). <br>\n",
        "Compure the accuracy in both training and validation sets. "
      ]
    },
    {
      "cell_type": "code",
      "metadata": {
        "id": "E8uueqGGSBJd"
      },
      "source": [
        "#\n",
        "# Ex 2.1.1: complete here\n",
        "#"
      ],
      "execution_count": null,
      "outputs": []
    },
    {
      "cell_type": "code",
      "metadata": {
        "colab": {
          "base_uri": "https://localhost:8080/"
        },
        "id": "L4avSSrcSFK0",
        "outputId": "dd81e88d-ca1d-49e2-839a-e7e35fa06196"
      },
      "source": [
        "#--------SOLUTIONS-------------\n",
        "from sklearn.linear_model import LogisticRegression\n",
        "\n",
        "clf_lr = LogisticRegression()\n",
        "clf_lr.fit(X_train, y_train)\n",
        "\n",
        "#estimation (y_hat)\n",
        "y_train_pred_lr = clf_lr.predict(X_train)\n",
        "y_val_pred_lr = clf_lr.predict(X_val)\n",
        "\n",
        "print(f\"Logistic Regression.\\tTrain ACC: {accuracy_score(y_train, y_train_pred_lr)}\")\n",
        "print(f\"Logistic Regression.\\tVal ACC: {accuracy_score(y_val, y_val_pred_lr)}\")"
      ],
      "execution_count": null,
      "outputs": [
        {
          "output_type": "stream",
          "name": "stdout",
          "text": [
            "Logistic Regression.\tTrain ACC: 1.0\n",
            "Logistic Regression.\tVal ACC: 1.0\n"
          ]
        }
      ]
    },
    {
      "cell_type": "markdown",
      "metadata": {
        "id": "iwnRlnJITqat"
      },
      "source": [
        "### Ex 2.2 Logistic Regression (2)\n",
        "\n",
        "We ask you again to work on a classification task. <br>\n",
        "This time, the classification is more challenging.\n",
        "The dataset is called *sonar*. "
      ]
    },
    {
      "cell_type": "code",
      "metadata": {
        "id": "RPaGZnJTTzYH"
      },
      "source": [
        "import pandas as pd\n",
        "url = 'https://raw.githubusercontent.com/jbrownlee/Datasets/master/sonar.csv'\n",
        "ds = pd.read_csv(url, header = None)\n",
        "\n",
        "# split into input and output elements\n",
        "data = ds.values\n",
        "X_sonar, y_sonar = data[:, :-1], data[:, -1]"
      ],
      "execution_count": null,
      "outputs": []
    },
    {
      "cell_type": "markdown",
      "metadata": {
        "id": "YqKEmbmmUbRx"
      },
      "source": [
        "**EX 2.2.1** Print the shapes of our arrays $X$ and $y$."
      ]
    },
    {
      "cell_type": "code",
      "metadata": {
        "id": "9jOf6l35UwUM"
      },
      "source": [
        "#\n",
        "# Ex 2.2.1: complete here\n",
        "#\n"
      ],
      "execution_count": null,
      "outputs": []
    },
    {
      "cell_type": "code",
      "metadata": {
        "colab": {
          "base_uri": "https://localhost:8080/"
        },
        "id": "ffj2tb_WU1H8",
        "outputId": "cc98b4a8-75eb-4d41-8607-e492f2ca35fb"
      },
      "source": [
        "#--------SOLUTIONS-------------\n",
        "print(X_sonar.shape, y_sonar.shape)"
      ],
      "execution_count": null,
      "outputs": [
        {
          "output_type": "stream",
          "name": "stdout",
          "text": [
            "(208, 60) (208,)\n"
          ]
        }
      ]
    },
    {
      "cell_type": "markdown",
      "metadata": {
        "id": "S_8KkpEiVDH2"
      },
      "source": [
        "It's time to partition our dataset. <br>\n",
        "We ask you to create three partitions:\n",
        "\n",
        "\n",
        "*   *train set* : a set of samples used to train a model.\n",
        "*   *val set*: a set of samples used to decide the best model.\n",
        "*   *test set*: a set of samples used to see our best model performance. "
      ]
    },
    {
      "cell_type": "markdown",
      "metadata": {
        "id": "i3Cl4DNbISPc"
      },
      "source": [
        "We now first split samples that we can use in our training (train and val), from samples that we cannot touch (test). <br>\n",
        "**EX 2.2.2** Create a split between train_val and test, by maintaining the 25% of samples in the test set."
      ]
    },
    {
      "cell_type": "code",
      "metadata": {
        "id": "piMMVXyBVPXy"
      },
      "source": [
        "#\n",
        "# Ex 2.2.2: complete here\n",
        "#\n",
        "# X_train_val, X_test, y_train_val, y_test = "
      ],
      "execution_count": null,
      "outputs": []
    },
    {
      "cell_type": "code",
      "metadata": {
        "id": "zMagQlKcVRIG"
      },
      "source": [
        "#--------SOLUTIONS-------------\n",
        "X_train_val, X_test, y_train_val, y_test = train_test_split(X_sonar, y_sonar, \n",
        "                                                  train_size = 0.75, random_state = 123)"
      ],
      "execution_count": null,
      "outputs": []
    },
    {
      "cell_type": "markdown",
      "metadata": {
        "id": "puQHU1EiI5lW"
      },
      "source": [
        "**EX 2.2.3** From the train_val variables, split train and validation sets. Maintain the 10% of samples in the validation.\n"
      ]
    },
    {
      "cell_type": "code",
      "metadata": {
        "id": "PK3dVG5VJJcW"
      },
      "source": [
        "#\n",
        "# Ex 2.2.3: complete here\n",
        "#\n",
        "# X_train, X_val, y_train, y_val = "
      ],
      "execution_count": null,
      "outputs": []
    },
    {
      "cell_type": "code",
      "metadata": {
        "id": "js9KFcG4JQ9O"
      },
      "source": [
        "#--------SOLUTIONS-------------\n",
        "X_train, X_val, y_train, y_val = train_test_split(X_train_val, y_train_val, \n",
        "                                                  train_size = 0.9, random_state = 123)"
      ],
      "execution_count": null,
      "outputs": []
    },
    {
      "cell_type": "code",
      "source": [
        "print(X_train.shape, X_val.shape, X_test.shape)"
      ],
      "metadata": {
        "colab": {
          "base_uri": "https://localhost:8080/"
        },
        "id": "wj6e3dg3MyM6",
        "outputId": "417fe598-00d1-400b-9cbe-f14bce936c8a"
      },
      "execution_count": null,
      "outputs": [
        {
          "output_type": "stream",
          "name": "stdout",
          "text": [
            "(140, 60) (16, 60) (52, 60)\n"
          ]
        }
      ]
    },
    {
      "cell_type": "markdown",
      "metadata": {
        "id": "D5xWObuEVbOP"
      },
      "source": [
        "Sklearn uses a different name for the hyperparameter $\\lambda$, can you recognise it in the documentation from its description? What is the default value for the parameter? What is its relationship with $\\lambda$?\n"
      ]
    },
    {
      "cell_type": "markdown",
      "metadata": {
        "id": "UdfZymBTnmls"
      },
      "source": [
        "\n",
        "Solution: $\\lambda=\\frac{1}{C}$\n"
      ]
    },
    {
      "cell_type": "markdown",
      "metadata": {
        "id": "cHh4F6EonDL4"
      },
      "source": [
        "Sklearn uses a different name for the hyperparameter $\\lambda$, can you recognise it in the documentation from its description? What is the default value for the parameter? What is its relationship with $\\lambda$?\n",
        "\n",
        "**EX 2.2.4** Train and evaluate (using accuracy) a logistic regression with the default value for the hyperparameter. Do the evaluation **only** on the training and validation partitions. "
      ]
    },
    {
      "cell_type": "code",
      "metadata": {
        "id": "8pVIcHmWVphu"
      },
      "source": [
        "#\n",
        "# Ex 2.2.4: complete here\n",
        "#"
      ],
      "execution_count": null,
      "outputs": []
    },
    {
      "cell_type": "code",
      "metadata": {
        "colab": {
          "base_uri": "https://localhost:8080/"
        },
        "id": "ps2GLaxaVjGy",
        "outputId": "09c3054d-39d4-4bd7-dd03-695c938eb370"
      },
      "source": [
        "#--------SOLUTION-------------\n",
        "clf_lr = LogisticRegression()\n",
        "clf_lr.fit(X_train, y_train)\n",
        "\n",
        "#estimation (y_hat)\n",
        "y_train_pred_lr = clf_lr.predict(X_train)\n",
        "y_val_pred_lr = clf_lr.predict(X_val)\n",
        "\n",
        "print(f\"Logistic Regression.\\tTrain ACC: {accuracy_score(y_train, y_train_pred_lr)}\")\n",
        "print(f\"Logistic Regression.\\tVal ACC: {accuracy_score(y_val, y_val_pred_lr)}\")"
      ],
      "execution_count": null,
      "outputs": [
        {
          "output_type": "stream",
          "name": "stdout",
          "text": [
            "Logistic Regression.\tTrain ACC: 0.8714285714285714\n",
            "Logistic Regression.\tVal ACC: 0.75\n"
          ]
        }
      ]
    },
    {
      "cell_type": "markdown",
      "metadata": {
        "id": "uRwSJs1gVsPk"
      },
      "source": [
        "This time we do not reach the 100% of accuracy in both training and validation set. <br>\n",
        "A good strategy is to apply a grid-search, i.e., find a sub-optimal hyperparameters. <br>\n",
        "We now ask you to manually implement a grid-search for *C*, an hyperparameter of the model. <br>\n",
        "See the documentation <a href=\"https://scikit-learn.org/stable/modules/generated/sklearn.linear_model.LogisticRegression.html\"> [link] </a>. <br>\n",
        "**EX 2.2.5**  We ask you to find the best *C* among the following: $C = [0.001, 0.01, 0.1, 1., 10]$."
      ]
    },
    {
      "cell_type": "code",
      "metadata": {
        "id": "mloaRMsPWg0I"
      },
      "source": [
        "#\n",
        "# Ex 2.2.5: complete here\n",
        "#\n",
        "C = [0.001, 0.01, 0.1, 1., 10]"
      ],
      "execution_count": null,
      "outputs": []
    },
    {
      "cell_type": "code",
      "metadata": {
        "colab": {
          "base_uri": "https://localhost:8080/"
        },
        "id": "6ENLqyKpWneR",
        "outputId": "00ff1aaf-14dd-4dfb-8b62-90e6e43b859d"
      },
      "source": [
        "#--------SOLUTION-------------\n",
        "C = [0.001, 0.01, 0.1, 1., 10, 100]\n",
        "for c in C:\n",
        "    clf_lr = LogisticRegression(C = c, max_iter = 200)\n",
        "    clf_lr.fit(X_train, y_train)\n",
        "\n",
        "    #estimation (y_hat)\n",
        "    y_train_pred_lr = clf_lr.predict(X_train)\n",
        "    y_val_pred_lr = clf_lr.predict(X_val)\n",
        "    tr_acc = accuracy_score(y_train, y_train_pred_lr)\n",
        "    val_acc= accuracy_score(y_val, y_val_pred_lr)\n",
        "\n",
        "    print(f\"LR. C= {c}.\\tTrain ACC: {tr_acc}\\tVal Acc: {val_acc}\")"
      ],
      "execution_count": null,
      "outputs": [
        {
          "output_type": "stream",
          "name": "stdout",
          "text": [
            "LR. C= 0.001.\tTrain ACC: 0.55\tVal Acc: 0.3125\n",
            "LR. C= 0.01.\tTrain ACC: 0.5857142857142857\tVal Acc: 0.3125\n",
            "LR. C= 0.1.\tTrain ACC: 0.75\tVal Acc: 0.5\n",
            "LR. C= 1.0.\tTrain ACC: 0.8714285714285714\tVal Acc: 0.75\n",
            "LR. C= 10.\tTrain ACC: 0.8785714285714286\tVal Acc: 0.75\n",
            "LR. C= 100.\tTrain ACC: 0.9357142857142857\tVal Acc: 0.75\n"
          ]
        }
      ]
    },
    {
      "cell_type": "markdown",
      "metadata": {
        "id": "Dxp8zprVXIdL"
      },
      "source": [
        "**Ex 2.2.6** The default parameter seems to work fine. <br>\n",
        "We might want to extend the search in a smaller range: $C=[0.1, 0.5, 1, 5, 10, 15, 20] $"
      ]
    },
    {
      "cell_type": "code",
      "metadata": {
        "id": "0xckj-5IXZxE"
      },
      "source": [
        "#\n",
        "# Ex 2.2.6: complete here\n",
        "#\n",
        "C=[0.1, 0.5, 1, 5, 10, 15, 20]"
      ],
      "execution_count": null,
      "outputs": []
    },
    {
      "cell_type": "code",
      "metadata": {
        "colab": {
          "base_uri": "https://localhost:8080/"
        },
        "id": "t7AniqXhXgwA",
        "outputId": "033d519f-6be7-48f7-de73-7b31b8d1f0fd"
      },
      "source": [
        "#--------SOLUTION-------------\n",
        "for c in C:\n",
        "    clf_lr = LogisticRegression(C = c, max_iter = 200)\n",
        "    clf_lr.fit(X_train, y_train)\n",
        "\n",
        "    #estimation (y_hat)\n",
        "    y_train_pred_lr = clf_lr.predict(X_train)\n",
        "    y_val_pred_lr = clf_lr.predict(X_val)\n",
        "    tr_acc = accuracy_score(y_train, y_train_pred_lr)\n",
        "    val_acc= accuracy_score(y_val, y_val_pred_lr)\n",
        "\n",
        "    print(f\"LR. C= {c}.\\tTrain ACC: {tr_acc}\\tVal Acc: {val_acc}\")"
      ],
      "execution_count": null,
      "outputs": [
        {
          "output_type": "stream",
          "name": "stdout",
          "text": [
            "LR. C= 0.1.\tTrain ACC: 0.75\tVal Acc: 0.5\n",
            "LR. C= 0.5.\tTrain ACC: 0.8428571428571429\tVal Acc: 0.6875\n",
            "LR. C= 1.\tTrain ACC: 0.8714285714285714\tVal Acc: 0.75\n",
            "LR. C= 5.\tTrain ACC: 0.8714285714285714\tVal Acc: 0.75\n",
            "LR. C= 10.\tTrain ACC: 0.8785714285714286\tVal Acc: 0.75\n",
            "LR. C= 15.\tTrain ACC: 0.8928571428571429\tVal Acc: 0.75\n",
            "LR. C= 20.\tTrain ACC: 0.9\tVal Acc: 0.75\n"
          ]
        }
      ]
    },
    {
      "cell_type": "markdown",
      "metadata": {
        "id": "cfbEDDN2Xni3"
      },
      "source": [
        "There is no much difference, but we find sub-optimal values with $C= [1, 5, 10, 20$]. <br>\n",
        "Note that while the training performance vary, the validation set is the same between these four values.   "
      ]
    },
    {
      "cell_type": "markdown",
      "metadata": {
        "id": "qgfoeKfaYBvV"
      },
      "source": [
        "In the official documentation, we find several hyperparameters we can tune. <br>\n",
        "For example, you might want to see what happen when we do not fit the intercept. To do so, we should try both combinations (i.e., true and false) for the parameters, but by combining all the possible C we found up to now. <br>\n",
        "Since we use 6 possible values for $C$ and 2 for *fit\\_intercept*, the total number of trials are $6 * 2 = 12$. <br>\n",
        "Python-related speaking, this is translated into an inner loop, i.e., a loop inside a loop:\n",
        "\n",
        "    for c in [0.1, 0.5, 1, 5, 10, 15, 20]:\n",
        "        for fi in [True, False]:\n",
        "            #here we train and test our model\n",
        "\n",
        "If we want to find the sub-optimal amond three hyper-parameters, we must add another innner loop. If we have 10 hyper-parameters, we'll have 10 inner loops! <br>\n",
        "For now, we can do it manually. \n",
        "\n",
        "**Ex 2.2.7** Find the sub-optimal values using the validation performance. "
      ]
    },
    {
      "cell_type": "code",
      "metadata": {
        "id": "7WfZkiv8dKnM"
      },
      "source": [
        "#\n",
        "# Ex 2.2.7: complete here\n",
        "#\n",
        "\n",
        "C=[0.1, 0.5, 1, 5, 10, 15, 20]\n",
        "FI = [True, False]"
      ],
      "execution_count": null,
      "outputs": []
    },
    {
      "cell_type": "code",
      "metadata": {
        "colab": {
          "base_uri": "https://localhost:8080/"
        },
        "id": "kzdl2OAKdTgD",
        "outputId": "1ad880bc-e7d1-40b8-f96b-f30a20ff675a"
      },
      "source": [
        "#--------SOLUTION-------------\n",
        "best_C = None\n",
        "best_fi = None\n",
        "best_train_acc = 0.\n",
        "best_val_acc = 0.\n",
        "\n",
        "for c in C:\n",
        "    for fi in FI:\n",
        "        clf_lr = LogisticRegression(C = c, fit_intercept= fi)\n",
        "        clf_lr.fit(X_train, y_train)\n",
        "\n",
        "        #estimation (y_hat)\n",
        "        y_train_pred_lr = clf_lr.predict(X_train)\n",
        "        y_val_pred_lr = clf_lr.predict(X_val)\n",
        "\n",
        "        tr_acc = accuracy_score(y_train, y_train_pred_lr)\n",
        "        val_acc= accuracy_score(y_val, y_val_pred_lr)\n",
        "\n",
        "        if val_acc > best_val_acc:\n",
        "            best_C = c\n",
        "            best_fi = fi\n",
        "            best_train_acc = tr_acc\n",
        "            best_val_acc = val_acc\n",
        "\n",
        "print(f\"Found the best model with C:{best_C}\\tFit Intercept:{best_fi}\")\n",
        "print(f\"Best training acc:{best_train_acc}\\tBest val acc:{best_val_acc}\")"
      ],
      "execution_count": null,
      "outputs": [
        {
          "output_type": "stream",
          "name": "stdout",
          "text": [
            "Found the best model with C:1\tFit Intercept:True\n",
            "Best training acc:0.8714285714285714\tBest val acc:0.75\n"
          ]
        }
      ]
    },
    {
      "cell_type": "markdown",
      "metadata": {
        "id": "4hfh8A6gLbWW"
      },
      "source": [
        "We don't get much improvement, since we obtain a similar score compared to the \"defaul\" Logistic Regression. Don't worry about it, it just a toy-sh dataset. During the next weeks we are going to see more realistic tasks where a proper parameter selection can make the difference. "
      ]
    },
    {
      "cell_type": "markdown",
      "metadata": {
        "id": "9NcUoUqSlGmV"
      },
      "source": [
        "# Ex 2.3 Grid Search Cross-Validation\n",
        "\n",
        "In the previous exercise, we implemented a grid search manually. <br>\n",
        "The more hyper-parameters, the harder to implement. <br>\n",
        "Scikit-learn eases our pain, and it offers a grid-search cross-validation function that does everything for us! <a href=\"https://scikit-learn.org/stable/modules/generated/sklearn.model_selection.GridSearchCV.html\"> [link]</a>.<br> \n",
        "We now see together an example of grid-search implementation."
      ]
    },
    {
      "cell_type": "code",
      "metadata": {
        "id": "2bwxkeSVmq0z"
      },
      "source": [
        "from sklearn.model_selection import GridSearchCV #import the library"
      ],
      "execution_count": null,
      "outputs": []
    },
    {
      "cell_type": "markdown",
      "metadata": {
        "id": "7DjUPAiGmx0h"
      },
      "source": [
        "The first thing to do is to define a dictionary containing the hyper-parameters with the range of values we want to search on. "
      ]
    },
    {
      "cell_type": "code",
      "metadata": {
        "id": "gyvBfn1omwSS"
      },
      "source": [
        "param_grid_test = {\n",
        "    'C': [0.1, 0.5, 1, 5, 10, 15, 20],\n",
        "    'fit_intercept': [True, False]\n",
        "}"
      ],
      "execution_count": null,
      "outputs": []
    },
    {
      "cell_type": "markdown",
      "metadata": {
        "id": "Lw21-uMJncqa"
      },
      "source": [
        "Then, we create the grid-search object."
      ]
    },
    {
      "cell_type": "code",
      "metadata": {
        "id": "2RghpaQtnhzw"
      },
      "source": [
        "#target classifier\n",
        "lr = LogisticRegression()\n",
        "\n",
        "#grid-search object\n",
        "clf = GridSearchCV(estimator= lr, param_grid=param_grid_test, \n",
        "                   cv = 5, scoring = \"accuracy\")"
      ],
      "execution_count": null,
      "outputs": []
    },
    {
      "cell_type": "markdown",
      "metadata": {
        "id": "W5Ijn5msnw4o"
      },
      "source": [
        "Finally, we can find the best model. <br>\n",
        "Note that the tool already refit the best fund model in the entire dataset (i.e., train and validation). <br> \n",
        "This is a default parameter of the grid-search CV (see the documentation).\n"
      ]
    },
    {
      "cell_type": "code",
      "metadata": {
        "colab": {
          "base_uri": "https://localhost:8080/"
        },
        "id": "1SrEmPuynwX4",
        "outputId": "8c161d97-eff6-47a1-bd56-56a70e46e976"
      },
      "source": [
        "#fit the model\n",
        "clf.fit(X_toy, y_toy) #we do not use the train - validation split strategy since it is included in the CV procedure\n",
        "\n",
        "#see the best parameters and performance\n",
        "print(clf.best_params_)\n",
        "print(clf.best_score_)\n"
      ],
      "execution_count": null,
      "outputs": [
        {
          "output_type": "stream",
          "name": "stdout",
          "text": [
            "{'C': 0.1, 'fit_intercept': True}\n",
            "1.0\n"
          ]
        }
      ]
    },
    {
      "cell_type": "markdown",
      "metadata": {
        "id": "vsDxM9Jopk2V"
      },
      "source": [
        "**Ex 2.3.1** Now it is your time. Implement a grid-search CV with 10 fold for the *sonar* dataset."
      ]
    },
    {
      "cell_type": "code",
      "metadata": {
        "id": "1mHXEHrjpxCM"
      },
      "source": [
        "#\n",
        "# Ex 2.3.1: complete here\n",
        "#"
      ],
      "execution_count": null,
      "outputs": []
    },
    {
      "cell_type": "code",
      "metadata": {
        "colab": {
          "base_uri": "https://localhost:8080/"
        },
        "id": "EKuEGYgmp1iO",
        "outputId": "949a9fe0-3ff5-4f7d-849d-d6b70a5927fa"
      },
      "source": [
        "#--------SOLUTION-------------\n",
        "#define the parameters grid\n",
        "param_grid = {\n",
        "    'C': [0.1, 0.5, 1, 5, 10, 15, 20],\n",
        "    'fit_intercept': [True, False]\n",
        "}\n",
        "\n",
        "#target classifier\n",
        "lr = LogisticRegression()\n",
        "\n",
        "#grid-search object\n",
        "clf = GridSearchCV(estimator= lr, param_grid=param_grid, cv = 10, scoring = \"accuracy\")\n",
        "\n",
        "#fit the model\n",
        "clf.fit(X_train_val, y_train_val) #we do not use the train - validation split strategy since it is included in the CV procedure\n",
        "\n",
        "#see the best parameters and performance\n",
        "print(clf.best_params_)\n",
        "print(clf.best_score_)"
      ],
      "execution_count": null,
      "outputs": [
        {
          "output_type": "stream",
          "name": "stderr",
          "text": [
            "/usr/local/lib/python3.7/dist-packages/sklearn/linear_model/_logistic.py:818: ConvergenceWarning: lbfgs failed to converge (status=1):\n",
            "STOP: TOTAL NO. of ITERATIONS REACHED LIMIT.\n",
            "\n",
            "Increase the number of iterations (max_iter) or scale the data as shown in:\n",
            "    https://scikit-learn.org/stable/modules/preprocessing.html\n",
            "Please also refer to the documentation for alternative solver options:\n",
            "    https://scikit-learn.org/stable/modules/linear_model.html#logistic-regression\n",
            "  extra_warning_msg=_LOGISTIC_SOLVER_CONVERGENCE_MSG,\n"
          ]
        },
        {
          "output_type": "stream",
          "name": "stdout",
          "text": [
            "{'C': 15, 'fit_intercept': False}\n",
            "0.7883333333333333\n"
          ]
        }
      ]
    },
    {
      "cell_type": "markdown",
      "source": [
        "you should see the following error: \n",
        "\n",
        "    *ConvergenceWarning: lbfgs failed to converge (status=1): STOP: TOTAL NO. of ITERATIONS REACHED LIMIT*\n",
        "\n",
        "**Ex 2.3.2** Use the documentation to better understand the nature of the warning. \n",
        "\n",
        "To fix it, we can set the parameter max_iter=200 in the LogisticRegression. Re-execute the previous code with this new parameter.  "
      ],
      "metadata": {
        "id": "3AXFFmIROG3v"
      }
    },
    {
      "cell_type": "code",
      "source": [
        "#\n",
        "# Ex 2.3.2: complete here\n",
        "#"
      ],
      "metadata": {
        "id": "ufQ1K6BLOx_O"
      },
      "execution_count": null,
      "outputs": []
    },
    {
      "cell_type": "code",
      "source": [
        "#--------SOLUTION-------------\n",
        "#define the parameters grid\n",
        "param_grid = {\n",
        "    'C': [0.1, 0.5, 1, 5, 10, 15, 20],\n",
        "    'fit_intercept': [True, False]\n",
        "}\n",
        "\n",
        "#target classifier\n",
        "lr = LogisticRegression(max_iter = 200)\n",
        "\n",
        "#grid-search object\n",
        "clf = GridSearchCV(estimator= lr, param_grid=param_grid, cv = 10, scoring = \"accuracy\")\n",
        "\n",
        "#fit the model\n",
        "clf.fit(X_train_val, y_train_val) #we do not use the train - validation split strategy since it is included in the CV procedure\n",
        "\n",
        "#see the best parameters and performance\n",
        "print(clf.best_params_)\n",
        "print(clf.best_score_)"
      ],
      "metadata": {
        "colab": {
          "base_uri": "https://localhost:8080/"
        },
        "id": "qUklkxH2Ovwh",
        "outputId": "f65fb2b0-9837-45f6-d5f4-c0ac0d66e802"
      },
      "execution_count": null,
      "outputs": [
        {
          "output_type": "stream",
          "name": "stdout",
          "text": [
            "{'C': 15, 'fit_intercept': False}\n",
            "0.7883333333333333\n"
          ]
        }
      ]
    },
    {
      "cell_type": "markdown",
      "metadata": {
        "id": "7Uo5APXyomcf"
      },
      "source": [
        "The grid-search cv returns a different Logistic Regression model, with $C=15$ and *fit_intercept=False*.  <br>\n",
        "\n",
        "**Ex 2.3.3** It's time to see this best model on the test set. Use the accuracy as evaluation metric."
      ]
    },
    {
      "cell_type": "code",
      "metadata": {
        "id": "zjlRf94sM55n"
      },
      "source": [
        "#\n",
        "# Ex 2.3.3: complete here\n",
        "#"
      ],
      "execution_count": null,
      "outputs": []
    },
    {
      "cell_type": "code",
      "metadata": {
        "colab": {
          "base_uri": "https://localhost:8080/"
        },
        "id": "pNA1yHhIM7yu",
        "outputId": "64a6bc8c-d7e6-439b-a568-84da153f2722"
      },
      "source": [
        "#--------SOLUTION-------------\n",
        "y_test_pred = clf.predict(X_test)\n",
        "print(accuracy_score(y_test, y_test_pred))"
      ],
      "execution_count": null,
      "outputs": [
        {
          "output_type": "stream",
          "name": "stdout",
          "text": [
            "0.7884615384615384\n"
          ]
        }
      ]
    },
    {
      "cell_type": "markdown",
      "source": [
        "# Ex 2.4: Homemade perceptron\n",
        "\n",
        "Using already made libraries is nice, they save us a lot of time!\n",
        "However, it is always interesting to understand their underlying mechanism. \n",
        "\n",
        "In this exercise, we try to implement a perceptron using only *numpy*."
      ],
      "metadata": {
        "id": "Eu_mQdepPF_Q"
      }
    },
    {
      "cell_type": "code",
      "source": [
        "import matplotlib.pyplot as plt\n",
        "from sklearn import datasets\n",
        "\n",
        "#let's build a custom dataset\n",
        "X, y = datasets.make_blobs(n_samples=150,n_features=2,\n",
        "                           centers=2,cluster_std=1.05,\n",
        "                           random_state=2)\n",
        "print(y)"
      ],
      "metadata": {
        "colab": {
          "base_uri": "https://localhost:8080/"
        },
        "id": "5lLp7aPRPI96",
        "outputId": "c803515b-219e-4aa9-ca5e-7f14ab9f170c"
      },
      "execution_count": null,
      "outputs": [
        {
          "output_type": "stream",
          "name": "stdout",
          "text": [
            "[1 0 1 1 0 0 0 1 1 0 0 0 1 1 1 1 1 0 1 0 0 1 0 1 1 1 1 0 1 0 1 1 1 0 1 0 1\n",
            " 0 1 0 0 0 1 0 1 1 0 0 0 1 0 1 0 0 0 0 0 0 0 0 1 1 1 0 1 0 1 0 1 1 0 1 1 1\n",
            " 1 0 1 0 1 1 1 1 1 1 0 1 1 1 1 0 0 1 1 1 0 0 0 1 1 0 0 0 1 1 0 1 0 0 0 1 0\n",
            " 1 0 0 0 0 0 0 0 1 0 0 0 1 0 0 0 1 1 0 0 1 1 1 0 1 1 1 0 1 0 1 0 0 0 0 1 0\n",
            " 1 1]\n"
          ]
        }
      ]
    },
    {
      "cell_type": "markdown",
      "source": [
        "As you can see, $y$ labels are $0$ or $1$. Let's turn the zeros into $-1$ to get us into the setting we saw in class\n",
        "\n",
        "**EX 2.4.1** Modify the $y$ vector such that the labels are $\\{-1,  1\\}$ instead of $\\{0, 1\\}$. "
      ],
      "metadata": {
        "id": "ccgbgNC0P5TH"
      }
    },
    {
      "cell_type": "code",
      "source": [
        "#\n",
        "# Ex 2.4.1: complete here\n",
        "#"
      ],
      "metadata": {
        "id": "BJfJKo-MQDv-"
      },
      "execution_count": null,
      "outputs": []
    },
    {
      "cell_type": "code",
      "source": [
        "# -------------SOLUTION--------------------\n",
        "# \n",
        " \n",
        "y[y==0] = -1\n",
        "\n",
        "# expected output of the command\n",
        "print(y)\n",
        "#[ 1 -1  1  1 -1 -1 -1  1  1 -1 -1 -1  1  1  1  1  1 -1  1 -1 -1  1 -1  1\n",
        "#  1  1  1 -1  1 -1  1  1  1 -1  1 -1  1 -1  1 -1 -1 -1  1 -1  1  1 -1 -1\n",
        "# -1  1 -1  1 -1 -1 -1 -1 -1 -1 -1 -1  1  1  1 -1  1 -1  1 -1  1  1 -1  1\n",
        "#  1  1  1 -1  1 -1  1  1  1  1  1  1 -1  1  1  1  1 -1 -1  1  1  1 -1 -1\n",
        "# -1  1  1 -1 -1 -1  1  1 -1  1 -1 -1 -1  1 -1  1 -1 -1 -1 -1 -1 -1 -1  1\n",
        "# -1 -1 -1  1 -1 -1 -1  1  1 -1 -1  1  1  1 -1  1  1  1 -1  1 -1  1 -1 -1\n",
        "# -1 -1  1 -1  1  1]\n"
      ],
      "metadata": {
        "colab": {
          "base_uri": "https://localhost:8080/"
        },
        "id": "d0yLXl5LP4Pu",
        "outputId": "cab8d575-f8ef-4b3b-e1ee-c5e9c55b66af"
      },
      "execution_count": null,
      "outputs": [
        {
          "output_type": "stream",
          "name": "stdout",
          "text": [
            "[ 1 -1  1  1 -1 -1 -1  1  1 -1 -1 -1  1  1  1  1  1 -1  1 -1 -1  1 -1  1\n",
            "  1  1  1 -1  1 -1  1  1  1 -1  1 -1  1 -1  1 -1 -1 -1  1 -1  1  1 -1 -1\n",
            " -1  1 -1  1 -1 -1 -1 -1 -1 -1 -1 -1  1  1  1 -1  1 -1  1 -1  1  1 -1  1\n",
            "  1  1  1 -1  1 -1  1  1  1  1  1  1 -1  1  1  1  1 -1 -1  1  1  1 -1 -1\n",
            " -1  1  1 -1 -1 -1  1  1 -1  1 -1 -1 -1  1 -1  1 -1 -1 -1 -1 -1 -1 -1  1\n",
            " -1 -1 -1  1 -1 -1 -1  1  1 -1 -1  1  1  1 -1  1  1  1 -1  1 -1  1 -1 -1\n",
            " -1 -1  1 -1  1  1]\n"
          ]
        }
      ]
    },
    {
      "cell_type": "markdown",
      "source": [
        "We also plot how the data looks like; in particular, we can see two different colours, one per class."
      ],
      "metadata": {
        "id": "_1H6DvQwQK-c"
      }
    },
    {
      "cell_type": "code",
      "source": [
        "#Plotting\n",
        "fig = plt.figure(figsize=(10,8))\n",
        "plt.plot(X[:, 0][y == -1], X[:, 1][y == -1], 'r^')\n",
        "plt.plot(X[:, 0][y == 1], X[:, 1][y == 1], 'bs')\n",
        "plt.xlabel(\"X1\")\n",
        "plt.ylabel(\"X2\")\n",
        "plt.title('Random Classification Data with 2 classes')"
      ],
      "metadata": {
        "colab": {
          "base_uri": "https://localhost:8080/",
          "height": 530
        },
        "id": "VkDhE4OgQKKV",
        "outputId": "30a0032d-96c6-4dca-d6d8-10060098dfcc"
      },
      "execution_count": null,
      "outputs": [
        {
          "output_type": "execute_result",
          "data": {
            "text/plain": [
              "Text(0.5, 1.0, 'Random Classification Data with 2 classes')"
            ]
          },
          "metadata": {},
          "execution_count": 32
        },
        {
          "output_type": "display_data",
          "data": {
            "text/plain": [
              "<Figure size 720x576 with 1 Axes>"
            ],
            "image/png": "[encoded data removed]"
          },
          "metadata": {
            "needs_background": "light"
          }
        }
      ]
    },
    {
      "cell_type": "markdown",
      "source": [
        "Let's start to solve our exercise. <br>\n",
        "\n",
        "**EX 2.4.2** create two variables $m,n$ that represent the number of examples and the number of features, respectively. Get those values from $X$. \n"
      ],
      "metadata": {
        "id": "IlGf1OYQQTTe"
      }
    },
    {
      "cell_type": "code",
      "source": [
        "#\n",
        "# Ex 2.4.2: complete here\n",
        "#"
      ],
      "metadata": {
        "id": "SqfenOW-Qqc_"
      },
      "execution_count": null,
      "outputs": []
    },
    {
      "cell_type": "code",
      "source": [
        "# -------------SOLUTION--------------------\n",
        "m, n = X.shape\n",
        "print(m, n) "
      ],
      "metadata": {
        "colab": {
          "base_uri": "https://localhost:8080/"
        },
        "id": "-sUfj0_aQSlS",
        "outputId": "2bf507aa-a1bc-40c3-bb57-e819b96cd38d"
      },
      "execution_count": null,
      "outputs": [
        {
          "output_type": "stream",
          "name": "stdout",
          "text": [
            "150 2\n"
          ]
        }
      ]
    },
    {
      "cell_type": "markdown",
      "source": [
        "We now create a numpy array $\\theta$ that contains the parameters of our perceptron. <br>\n",
        "\n",
        "**EX 2.4.3** Create a numpy array *theta* filled with zero values (you should be able to determine the correct size). <br>\n"
      ],
      "metadata": {
        "id": "irc8mcuEQxRc"
      }
    },
    {
      "cell_type": "code",
      "source": [
        "#\n",
        "# Ex 2.4.3: complete the solution here\n",
        "#\n",
        "# theta = \n"
      ],
      "metadata": {
        "id": "DmR9BAdiRCCr"
      },
      "execution_count": null,
      "outputs": []
    },
    {
      "cell_type": "code",
      "source": [
        "# -------------SOLUTION--------------------\n",
        "theta = np.zeros((n + 1, 1)) #we consider the +1 since we need to insert the bias as well\n",
        "print(theta, theta.shape)"
      ],
      "metadata": {
        "colab": {
          "base_uri": "https://localhost:8080/"
        },
        "id": "j2FAnt3kRFEG",
        "outputId": "e78e280d-93d1-450c-c909-0da5b3ef5acf"
      },
      "execution_count": null,
      "outputs": [
        {
          "output_type": "stream",
          "name": "stdout",
          "text": [
            "[[0.]\n",
            " [0.]\n",
            " [0.]] (3, 1)\n"
          ]
        }
      ]
    },
    {
      "cell_type": "markdown",
      "source": [
        "Add the *bias* vector to $X$ as well: <br> \n",
        "**EX 2.4.4** create a new matrix $X_{mat}$ $(m , 3)$, where the first column is set to $1$, the second and third are our $X$. "
      ],
      "metadata": {
        "id": "x4Yj8X4ARM-M"
      }
    },
    {
      "cell_type": "code",
      "source": [
        "#\n",
        "# Ex 2.4.4: complete the solution here\n",
        "#\n",
        "# X_mat = \n",
        "\n"
      ],
      "metadata": {
        "id": "dCYfcVplRQuz"
      },
      "execution_count": null,
      "outputs": []
    },
    {
      "cell_type": "code",
      "source": [
        "# -------------SOLUTION--------------------\n",
        "print(X[:5, :])\n",
        "X_mat = np.hstack((np.ones((m, 1)), X))\n",
        "print(X_mat[:5, :])"
      ],
      "metadata": {
        "colab": {
          "base_uri": "https://localhost:8080/"
        },
        "id": "CREvCWXhRXbf",
        "outputId": "6fd308c8-6a42-4261-e86a-40a8296a0b62"
      },
      "execution_count": null,
      "outputs": [
        {
          "output_type": "stream",
          "name": "stdout",
          "text": [
            "[[ -0.53278301  -1.64847081]\n",
            " [ -0.55022637 -11.61661524]\n",
            " [  1.38862276  -1.4358059 ]\n",
            " [  1.37033956  -0.64022071]\n",
            " [ -0.88060639  -9.7094674 ]]\n",
            "[[  1.          -0.53278301  -1.64847081]\n",
            " [  1.          -0.55022637 -11.61661524]\n",
            " [  1.           1.38862276  -1.4358059 ]\n",
            " [  1.           1.37033956  -0.64022071]\n",
            " [  1.          -0.88060639  -9.7094674 ]]\n"
          ]
        }
      ]
    },
    {
      "cell_type": "markdown",
      "source": [
        "It's time to train! <br>\n",
        "**EX 2.4.5** Write a function called *perceptron_v1* that, given $X_{mat}$, $y$ and $\\theta$, updates $\\theta$ using the **perceptron** algorithm we saw in class during one of the previous lectures. <br>\n",
        "**Bonus**: we say that one algorithm has run for an epoch once it has seen (considered) all the examples in the training set once. Add a parameter  max_epochs to perceptron\\_v1 which stops the perceptron if it has not converged after max_epochs epochs.  \n",
        "The function returns the updated $\\theta$ vector, and the number of epochs it has been executed. \n",
        "\n",
        "    #Example of how to return multiple variables\n",
        "    def example(a, b):\n",
        "        c = a + b\n",
        "        d = a * b\n",
        "        e = a / b\n",
        "        f = a - b\n",
        "        return c, d, e, f\n",
        "    \n",
        "    c, d, e, f = example(1, 2)\n"
      ],
      "metadata": {
        "id": "Bj7rFJ3GFnhF"
      }
    },
    {
      "cell_type": "code",
      "source": [
        "#\n",
        "# Ex 2.4.5: complete the solution here\n",
        "#\n",
        "\n"
      ],
      "metadata": {
        "id": "fBWQINanFssT"
      },
      "execution_count": null,
      "outputs": []
    },
    {
      "cell_type": "code",
      "source": [
        "# -------------SOLUTION--------------------\n",
        "\n",
        "def perceptron_v1(X_mat, y, theta, max_epochs):\n",
        "\n",
        "  m = X_mat.shape[0] # number of examples in the training set\n",
        "  num_epochs = 0\n",
        "  num_errors = 1\n",
        "  while num_epochs <= max_epochs and num_errors > 0: # we keep iterating over the data until \n",
        "                                                       # we make no mistake or we reach the maximum number of iterations\n",
        "    num_epochs = num_epochs + 1\n",
        "    num_errors = 0\n",
        "    for i in range(m):\n",
        "      #get the current sample\n",
        "      X_i = X_mat[i, :].reshape(1, 3)# @ (3, 1) = (1, 1) ~ real value\n",
        "      y_i = y[i]\n",
        "      y_hat = X_i.dot(theta)\n",
        "      #predict the label of the ith-example\n",
        "      if y_hat * y_i <= 0: \n",
        "        theta += y_i*X_i.T # the prediction is wrong, we update the theta\n",
        "        num_errors = num_errors + 1 \n",
        "  return theta, num_epochs\n",
        "\n",
        "\n",
        "\n",
        "theta, num_epochs = perceptron_v1(X_mat, y, theta, 30)\n",
        "print(theta)"
      ],
      "metadata": {
        "id": "KPQY0Nspuv4x",
        "colab": {
          "base_uri": "https://localhost:8080/"
        },
        "outputId": "85b0bfd8-b6a5-455e-cb56-0d0b4dfded7b"
      },
      "execution_count": null,
      "outputs": [
        {
          "output_type": "stream",
          "name": "stdout",
          "text": [
            "[[10.        ]\n",
            " [ 1.4885954 ]\n",
            " [ 1.69384333]]\n"
          ]
        }
      ]
    },
    {
      "cell_type": "markdown",
      "source": [
        "Now write a function _perceptron_predict_ that computes the predictions of a trained Perceptron on a dataset, returning a vector (list) of {-1,1} values. The parameters of the function are the dataset and the theta values. Apply _perceptron_predict_ to X_mat, theta: y_pred = perceptron_predict(X_mat, theta)"
      ],
      "metadata": {
        "id": "Rgd-ykrpMdrq"
      }
    },
    {
      "cell_type": "code",
      "source": [
        "def perceptron_predict(X_mat, theta):\n",
        "  y_pred = []\n",
        "  for i in range(X_mat.shape[0]):\n",
        "    score = X_mat[i,:].dot(theta)\n",
        "    if score>0:\n",
        "      y_pred.append(1)\n",
        "    else:\n",
        "      y_pred.append(-1)\n",
        "  return y_pred\n",
        "\n",
        "\n",
        "def perceptron_predict_v2(X_mat, theta): # this version uses matrix notation\n",
        "  y_pred = X_mat.dot(theta)\n",
        "  y_pred[y_pred>0] = 1\n",
        "  y_pred[y_pred<=0] = -1\n",
        "  return y_pred.flatten() # numpy treats differently matrices of dimension (n,1) and vectors of size n; \n",
        "                          # here y_pred is a matrix - if you type y_pred.shape before applying flatten you get (150,1) -  but \n",
        "                          # we want to convert it to a vector - if you type y_pred.shape after flatten you get (150,) - \n",
        "                          # because we will compare to another vector, y, to compute the accuracy of the perceptron. \n",
        "\n",
        "y_pred = perceptron_predict(X_mat, theta)\n"
      ],
      "metadata": {
        "id": "r1GNufY-MZqO"
      },
      "execution_count": null,
      "outputs": []
    },
    {
      "cell_type": "markdown",
      "source": [
        "**EX 2.4.6** Define a function called *accuracy_score* that, given the ground truth and a vector of predictions, it returns the accuracy score. <br>\n",
        "We define the accuracy as the number of correct predictions, divided by the total number of predictions. <br>\n",
        "Calculate the accuracy score among the previous perceptron execution."
      ],
      "metadata": {
        "id": "cR70ZPWzR-DB"
      }
    },
    {
      "cell_type": "code",
      "source": [
        "#\n",
        "# Ex 2.4.6: complete the solution here\n",
        "#\n",
        "\n",
        "# Expected output of the command\n",
        "# print(accuracy_score(y, y_pred))\n"
      ],
      "metadata": {
        "id": "6YEKGwnBRz1_"
      },
      "execution_count": null,
      "outputs": []
    },
    {
      "cell_type": "code",
      "source": [
        "# -------------SOLUTION--------------------\n",
        "#\n",
        "# Ex 2.4.6: complete the solution here\n",
        "#\n",
        "def accuracy_score(y_true, y_pred):\n",
        "    return np.sum(y_true == y_pred) / len(y_true)\n",
        "\n",
        "print(accuracy_score(y,y_pred))"
      ],
      "metadata": {
        "id": "rg_DqsX5SHXB",
        "colab": {
          "base_uri": "https://localhost:8080/"
        },
        "outputId": "ce856ded-8ef0-4f55-a318-768567554454"
      },
      "execution_count": null,
      "outputs": [
        {
          "output_type": "stream",
          "name": "stdout",
          "text": [
            "1.0\n"
          ]
        }
      ]
    },
    {
      "cell_type": "markdown",
      "source": [
        "Good job! We can finally plot the decision boundary obtained so far."
      ],
      "metadata": {
        "id": "qVX6QoCgSTER"
      }
    },
    {
      "cell_type": "code",
      "source": [
        "#Plotting\n",
        "fig = plt.figure(figsize=(10,8))\n",
        "plt.plot(X[:, 0][y == -1], X[:, 1][y == -1], 'r^')\n",
        "plt.plot(X[:, 0][y == 1], X[:, 1][y == 1], 'bs')\n",
        "plt.xlabel(\"X1\")\n",
        "plt.ylabel(\"X2\")\n",
        "plt.title('Random Classification Data with 2 classes')\n",
        "\n",
        "# ADD THE DECISION BOUNDARY\n",
        "# The Line is y=mx+c\n",
        "x1 = np.array([min(X[:,0]), max(X[:,0])])\n",
        "m = -theta[1]/theta[2]\n",
        "c = -theta[0]/theta[2]\n",
        "x2 = m * x1 + c\n",
        "plt.plot(x1, x2, 'y-')"
      ],
      "metadata": {
        "colab": {
          "base_uri": "https://localhost:8080/",
          "height": 530
        },
        "id": "tQWEokTbST7z",
        "outputId": "925ba473-247e-41f2-ca8c-8381ae755011"
      },
      "execution_count": null,
      "outputs": [
        {
          "output_type": "execute_result",
          "data": {
            "text/plain": [
              "[<matplotlib.lines.Line2D at 0x7f3627404910>]"
            ]
          },
          "metadata": {},
          "execution_count": 40
        },
        {
          "output_type": "display_data",
          "data": {
            "text/plain": [
              "<Figure size 720x576 with 1 Axes>"
            ],
            "image/png": "[encoded data removed]"
          },
          "metadata": {
            "needs_background": "light"
          }
        }
      ]
    }
  ]
}